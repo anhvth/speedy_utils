{
 "cells": [
  {
   "cell_type": "markdown",
   "id": "136ff273",
   "metadata": {},
   "source": [
    "# LLM-as-a-Judge Tutorial\n",
    "\n",
    "This notebook demonstrates how to use the LLM-as-a-Judge system with structured prompts, variable substitution, and SFT export capabilities."
   ]
  },
  {
   "cell_type": "markdown",
   "id": "60c1bf59",
   "metadata": {},
   "source": [
    "## Setup and Imports"
   ]
  },
  {
   "cell_type": "code",
   "execution_count": 3,
   "id": "bb8f8e2b",
   "metadata": {},
   "outputs": [],
   "source": [
    "from llm_utils import *\n",
    "from pydantic import BaseModel\n",
    "import json"
   ]
  },
  {
   "cell_type": "markdown",
   "id": "eaceb8bd",
   "metadata": {},
   "source": [
    "## Example 1: DSPy-like Signature System\n",
    "\n",
    "First, let's create a simple factual accuracy judge using the Signature system:"
   ]
  },
  {
   "cell_type": "code",
   "execution_count": 4,
   "id": "5b5e2123",
   "metadata": {},
   "outputs": [],
   "source": [
    "# Define a signature like DSPy (original syntax - no more type warnings!)\n",
    "class FactJudge(Signature):\n",
    "    \"\"\"Judge if the answer is factually correct based on the context.\"\"\"\n",
    "    \n",
    "    # No more type warnings with the updated InputField/OutputField!\n",
    "    context: str = InputField(desc=\"Context for the prediction\")\n",
    "    question: str = InputField(desc=\"Question to be answered\")\n",
    "    answer: str = InputField(desc=\"Answer for the question\")\n",
    "    factually_correct: bool = OutputField(desc=\"Is the answer factually correct based on the context?\")\n",
    "lm = LLM.from_signature(FactJudge, client=8000, cache=False)"
   ]
  },
  {
   "cell_type": "code",
   "execution_count": null,
   "id": "2070bcb0",
   "metadata": {},
   "outputs": [],
   "source": []
  }
 ],
 "metadata": {
  "kernelspec": {
   "display_name": "speedy-utils",
   "language": "python",
   "name": "python3"
  },
  "language_info": {
   "codemirror_mode": {
    "name": "ipython",
    "version": 3
   },
   "file_extension": ".py",
   "mimetype": "text/x-python",
   "name": "python",
   "nbconvert_exporter": "python",
   "pygments_lexer": "ipython3",
   "version": "3.13.7"
  }
 },
 "nbformat": 4,
 "nbformat_minor": 5
}
