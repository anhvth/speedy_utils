{
 "cells": [
  {
   "cell_type": "code",
   "execution_count": 1,
   "id": "05ae9902",
   "metadata": {},
   "outputs": [
    {
     "name": "stdout",
     "output_type": "stream",
     "text": [
      "The autoreload extension is already loaded. To reload it, use:\n",
      "  %reload_ext autoreload\n"
     ]
    }
   ],
   "source": [
    "%load_ext autoreload\n",
    "%autoreload 2"
   ]
  },
  {
   "cell_type": "code",
   "execution_count": 1,
   "id": "7c90e0ec-e08f-4454-8a9e-785552cfeaac",
   "metadata": {},
   "outputs": [
    {
     "name": "stdout",
     "output_type": "stream",
     "text": [
      "\u001b[34m\u001b[1mDEBUG   \u001b[0m | \u001b[36mutils_print.py:275 (setup_logger)\u001b[0m - \u001b[34m\u001b[1mLogging set to DEBUG\u001b[0m\n"
     ]
    }
   ],
   "source": [
    "from speedy_utils.all import *\n",
    "\n",
    "setup_logger(\"D\")"
   ]
  },
  {
   "cell_type": "code",
   "execution_count": null,
   "id": "3fc68f27",
   "metadata": {},
   "outputs": [
    {
     "data": {
      "text/plain": [
       "1"
      ]
     },
     "execution_count": 3,
     "metadata": {},
     "output_type": "execute_result"
    }
   ],
   "source": [
    "setup_logger(\"I\")\n",
    "\n",
    "\n",
    "def slow_func(x):\n",
    "    time.sleep(0.2)  # sleeps for `x` seconds\n",
    "    if x == 5:\n",
    "        raise ValueError(\"AAAAAAAAAAAAA\")\n",
    "    return x\n",
    "\n",
    "slow_func(1)"
   ]
  },
  {
   "cell_type": "code",
   "execution_count": null,
   "id": "d661d5ce",
   "metadata": {},
   "outputs": [],
   "source": [
    "\n",
    "results = multi_thread(\n",
    "    func=slow_func,\n",
    "    orig_inputs=range(1000),\n",
    "    workers=1,\n",
    "    desc=\"Demo\",\n",
    "    max_task_seconds=0.1,\n",
    "    stop_on_error=True\n",
    ")"
   ]
  }
 ],
 "metadata": {
  "kernelspec": {
   "display_name": "cs-chatbot",
   "language": "python",
   "name": "python3"
  },
  "language_info": {
   "codemirror_mode": {
    "name": "ipython",
    "version": 3
   },
   "file_extension": ".py",
   "mimetype": "text/x-python",
   "name": "python",
   "nbconvert_exporter": "python",
   "pygments_lexer": "ipython3",
   "version": "3.10.15"
  }
 },
 "nbformat": 4,
 "nbformat_minor": 5
}
