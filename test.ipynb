{
 "cells": [
  {
   "cell_type": "code",
   "execution_count": 1,
   "id": "7c90e0ec-e08f-4454-8a9e-785552cfeaac",
   "metadata": {},
   "outputs": [],
   "source": [
    "from speedy_utils import *"
   ]
  },
  {
   "cell_type": "code",
   "execution_count": 16,
   "id": "94e7ad5f-2076-41ed-a4ff-107ffc2ed181",
   "metadata": {},
   "outputs": [
    {
     "name": "stderr",
     "output_type": "stream",
     "text": [
      "Processing: 100%|█████████████████████████████████████████████████████████████████████████| 6/6 [00:00<00:00, 103138.62it/s]"
     ]
    },
    {
     "name": "stdout",
     "output_type": "stream",
     "text": [
      "Starting task with x=1, y=2, sleep 1Starting task with x=3, y=4, sleep 3Starting task with x=2, y=10, sleep 2\n",
      "\n",
      "\n"
     ]
    },
    {
     "name": "stderr",
     "output_type": "stream",
     "text": [
      "\n"
     ]
    },
    {
     "name": "stdout",
     "output_type": "stream",
     "text": [
      "Done with x=1, y=2, result=3\n",
      "Starting task with x=4, y=100, sleep 4\n",
      "Done with x=2, y=10, result=12\n",
      "Starting task with x=5, y=6, sleep 5\n",
      "Done with x=3, y=4, result=7\n",
      "Starting task with x=6, y=12, sleep 6\n",
      "Done with x=4, y=100, result=104\n",
      "Done with x=5, y=6, result=11\n",
      "Done with x=6, y=12, result=18\n"
     ]
    }
   ],
   "source": [
    "import time\n",
    "def f_simple(x, y):\n",
    "    \"\"\"\n",
    "    A simple function to simulate a task.\n",
    "    \"\"\"\n",
    "    print(f\"Starting task with x={x}, y={y}, sleep {x}\")\n",
    "    time.sleep(x)  # Simulate a delay\n",
    "    result = x + y\n",
    "    print(f\"Done with x={x}, y={y}, result={result}\")\n",
    "    return result\n",
    "\n",
    "# Inputs for testing\n",
    "inputs = [\n",
    "    {\"x\": 1, \"y\": 2},\n",
    "    {\"x\": 2, \"y\": 10},\n",
    "    {\"x\": 3, \"y\": 4},\n",
    "    {\"x\": 4, \"y\": 100},\n",
    "    {\"x\": 5, \"y\": 6},\n",
    "    {\"x\": 6, \"y\": 12},\n",
    "]\n",
    "\n",
    "results = multi_process(f_simple, inputs, workers=3, verbose=True)"
   ]
  },
  {
   "cell_type": "code",
   "execution_count": 15,
   "id": "404c572b-535c-4a7f-9f71-0270dcfe7b10",
   "metadata": {},
   "outputs": [
    {
     "data": {
      "text/plain": [
       "[3, 12, 7, None, None, None]"
      ]
     },
     "execution_count": 15,
     "metadata": {},
     "output_type": "execute_result"
    }
   ],
   "source": [
    "results"
   ]
  },
  {
   "cell_type": "code",
   "execution_count": null,
   "id": "a73c9862-e44b-45ef-ae82-6e424a744ae2",
   "metadata": {},
   "outputs": [],
   "source": []
  }
 ],
 "metadata": {
  "kernelspec": {
   "display_name": "Python 3 (ipykernel)",
   "language": "python",
   "name": "python3"
  },
  "language_info": {
   "codemirror_mode": {
    "name": "ipython",
    "version": 3
   },
   "file_extension": ".py",
   "mimetype": "text/x-python",
   "name": "python",
   "nbconvert_exporter": "python",
   "pygments_lexer": "ipython3",
   "version": "3.12.2"
  }
 },
 "nbformat": 4,
 "nbformat_minor": 5
}
