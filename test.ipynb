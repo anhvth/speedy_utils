{
 "cells": [
  {
   "cell_type": "code",
   "execution_count": 1,
   "id": "05ae9902",
   "metadata": {},
   "outputs": [
    {
     "name": "stdout",
     "output_type": "stream",
     "text": [
      "The autoreload extension is already loaded. To reload it, use:\n",
      "  %reload_ext autoreload\n"
     ]
    }
   ],
   "source": [
    "%load_ext autoreload\n",
    "%autoreload 2"
   ]
  },
  {
   "cell_type": "code",
   "execution_count": 2,
   "id": "7c90e0ec-e08f-4454-8a9e-785552cfeaac",
   "metadata": {},
   "outputs": [
    {
     "name": "stdout",
     "output_type": "stream",
     "text": [
      "\u001b[34m\u001b[1mDEBUG   \u001b[0m | \u001b[36mutils_print.py:275 (setup_logger)\u001b[0m - \u001b[34m\u001b[1mLogging set to DEBUG\u001b[0m\n"
     ]
    }
   ],
   "source": [
    "from speedy_utils.all import *\n",
    "\n",
    "setup_logger(\"D\")"
   ]
  },
  {
   "cell_type": "markdown",
   "id": "b1ab33ef",
   "metadata": {},
   "source": []
  },
  {
   "cell_type": "code",
   "execution_count": null,
   "id": "3fc68f27",
   "metadata": {},
   "outputs": [
    {
     "name": "stdout",
     "output_type": "stream",
     "text": [
      "\u001b[34m\u001b[1mDEBUG   \u001b[0m | \u001b[36mutils_print.py:275 (setup_logger)\u001b[0m - \u001b[34m\u001b[1mLogging set to DEBUG\u001b[0m\n"
     ]
    },
    {
     "name": "stderr",
     "output_type": "stream",
     "text": [
      "Demo:   0%|                                                    | 0/1000 [00:00<?, ?it/s]"
     ]
    },
    {
     "name": "stdout",
     "output_type": "stream",
     "text": [
      "\u001b[31m\u001b[1mERROR   \u001b[0m | \u001b[36mthread.py:153 (_execute_tasks_in_parallel)\u001b[0m - \u001b[31m\u001b[1mError at index 0: <class 'TimeoutError'>: Task exceeded 0.1 seconds\u001b[0m\n"
     ]
    },
    {
     "name": "stderr",
     "output_type": "stream",
     "text": [
      "Demo:   0%|                                 | 1/1000 [00:01<17:20,  1.04s/it, SUCCESS=1]"
     ]
    },
    {
     "name": "stdout",
     "output_type": "stream",
     "text": [
      "\u001b[31m\u001b[1mERROR   \u001b[0m | \u001b[36mthread.py:153 (_execute_tasks_in_parallel)\u001b[0m - \u001b[31m\u001b[1mError at index 2: <class 'TimeoutError'>: Task exceeded 0.1 seconds\u001b[0m\n"
     ]
    },
    {
     "name": "stderr",
     "output_type": "stream",
     "text": [
      "Demo:   0%|                                 | 2/1000 [00:02<17:13,  1.04s/it, SUCCESS=2]"
     ]
    },
    {
     "name": "stdout",
     "output_type": "stream",
     "text": [
      "\u001b[31m\u001b[1mERROR   \u001b[0m | \u001b[36mthread.py:153 (_execute_tasks_in_parallel)\u001b[0m - \u001b[31m\u001b[1mError at index 4: <class 'TimeoutError'>: Task exceeded 0.1 seconds\u001b[0m\n"
     ]
    },
    {
     "name": "stderr",
     "output_type": "stream",
     "text": [
      "Demo:   0%|                                 | 3/1000 [00:03<17:10,  1.03s/it, SUCCESS=3]"
     ]
    },
    {
     "name": "stdout",
     "output_type": "stream",
     "text": [
      "\u001b[31m\u001b[1mERROR   \u001b[0m | \u001b[36mthread.py:153 (_execute_tasks_in_parallel)\u001b[0m - \u001b[31m\u001b[1mError at index 6: <class 'TimeoutError'>: Task exceeded 0.1 seconds\u001b[0m\n"
     ]
    },
    {
     "name": "stderr",
     "output_type": "stream",
     "text": [
      "Demo:   0%|▏                                | 4/1000 [00:04<16:29,  1.01it/s, SUCCESS=4]"
     ]
    },
    {
     "name": "stdout",
     "output_type": "stream",
     "text": [
      "\u001b[33m\u001b[1mWARNING \u001b[0m | \u001b[36mthread.py:287 (multi_thread)\u001b[0m - \u001b[33m\u001b[1mKeyboard interrupt detected. Stopping execution.\u001b[0m\n"
     ]
    },
    {
     "name": "stderr",
     "output_type": "stream",
     "text": [
      "                                                                                        \r"
     ]
    }
   ],
   "source": [
    "setup_logger(\"D\")\n",
    "\n",
    "\n",
    "def slow_func(x):\n",
    "    time.sleep(1)  # sleeps for `x` seconds\n",
    "    if x == 5:\n",
    "        raise ValueError(\"AAAAAAAAAAAAA\")\n",
    "    return x\n",
    "\n",
    "\n",
    "results = multi_thread(\n",
    "    func=slow_func,\n",
    "    orig_inputs=range(1000),\n",
    "    workers=100,\n",
    "    desc=\"Demo\",\n",
    "    verbose=False,\n",
    "    max_task_seconds=0.1,\n",
    ")"
   ]
  },
  {
   "cell_type": "code",
   "execution_count": 31,
   "id": "7752227f",
   "metadata": {},
   "outputs": [
    {
     "data": {
      "text/plain": [
       "[RunErr(<class 'TimeoutError'>),\n",
       " None,\n",
       " None,\n",
       " RunErr(<class 'TimeoutError'>),\n",
       " RunErr(<class 'TimeoutError'>),\n",
       " None,\n",
       " RunErr(<class 'TimeoutError'>),\n",
       " None,\n",
       " None,\n",
       " RunErr(<class 'TimeoutError'>)]"
      ]
     },
     "execution_count": 31,
     "metadata": {},
     "output_type": "execute_result"
    }
   ],
   "source": [
    "results"
   ]
  },
  {
   "cell_type": "code",
   "execution_count": null,
   "id": "d661d5ce",
   "metadata": {},
   "outputs": [],
   "source": []
  }
 ],
 "metadata": {
  "kernelspec": {
   "display_name": "cs-chatbot",
   "language": "python",
   "name": "python3"
  },
  "language_info": {
   "codemirror_mode": {
    "name": "ipython",
    "version": 3
   },
   "file_extension": ".py",
   "mimetype": "text/x-python",
   "name": "python",
   "nbconvert_exporter": "python",
   "pygments_lexer": "ipython3",
   "version": "3.10.15"
  }
 },
 "nbformat": 4,
 "nbformat_minor": 5
}
