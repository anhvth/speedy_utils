{
 "cells": [
  {
   "cell_type": "code",
   "execution_count": 1,
   "id": "147c23ad",
   "metadata": {},
   "outputs": [],
   "source": [
    "%%capture\n",
    "%load_ext autoreload\n",
    "%autoreload 2"
   ]
  },
  {
   "cell_type": "code",
   "execution_count": 3,
   "id": "a7d1c01a",
   "metadata": {},
   "outputs": [],
   "source": [
    "import asyncio"
   ]
  },
  {
   "cell_type": "code",
   "execution_count": null,
   "id": "e6364a29",
   "metadata": {},
   "outputs": [],
   "source": [
    "from llm_utils import LM\n",
    "from llm_utils.lm.alm import AsyncLM\n",
    "from pydantic import BaseModel, Field\n",
    "from typing import List, Optional\n",
    "from transformers import AutoTokenizer\n",
    "from llm_utils.chat_format.display import get_conversation_one_turn"
   ]
  },
  {
   "cell_type": "code",
   "execution_count": null,
   "id": "998e3026",
   "metadata": {},
   "outputs": [],
   "source": [
    "lm = AsyncLM(port=8180)\n",
    "slm = LM(port=8180)"
   ]
  },
  {
   "cell_type": "code",
   "execution_count": 23,
   "id": "94bc4df3",
   "metadata": {},
   "outputs": [],
   "source": [
    "\n",
    "class Output(BaseModel):\n",
    "    reasoning: str = Field(\n",
    "        description='The reasoning behind the answer',\n",
    "        examples=['To find the square root of 16, we look for a number that, '\n",
    "                  'when multiplied by itself, equals 16. The number 4 satisfies '\n",
    "                  'this condition.'],\n",
    "    )\n",
    "    result: float = Field(\n",
    "        description='The result of the calculation',\n",
    "        examples=[4.0],\n",
    "    )\n"
   ]
  },
  {
   "cell_type": "code",
   "execution_count": 25,
   "id": "4d3d47a1",
   "metadata": {},
   "outputs": [],
   "source": [
    "ret = slm.parse(response_model=Output,\n",
    "                instruction=\"You are a calculator.\", prompt=\"What is the square root of pi?\",\n",
    "                think=False)"
   ]
  },
  {
   "cell_type": "code",
   "execution_count": 26,
   "id": "2882e402",
   "metadata": {},
   "outputs": [
    {
     "data": {
      "text/plain": [
       "Output(reasoning='The square root of pi is a mathematical operation. I will calculate the square root of the value of pi, which is approximately 3.141592653589793.', result=1.7724538509055159)"
      ]
     },
     "execution_count": 26,
     "metadata": {},
     "output_type": "execute_result"
    }
   ],
   "source": [
    "ret"
   ]
  },
  {
   "cell_type": "code",
   "execution_count": 29,
   "id": "ec24c794",
   "metadata": {},
   "outputs": [],
   "source": [
    "ret = await lm.parse(response_model=Output,\n",
    "                instruction=\"You are a calculator.\", prompt=\"What is the square root of i^2?\",\n",
    "                think=False)"
   ]
  },
  {
   "cell_type": "code",
   "execution_count": 30,
   "id": "30531a3a",
   "metadata": {},
   "outputs": [
    {
     "data": {
      "text/plain": [
       "Output(reasoning='To find the square root of i^2, we first need to calculate i^2. The imaginary unit i is defined as the square root of -1, so i^2 = -1. Now, we need to find the square root of -1. The square root of -1 is defined as i, so the square root of i^2 is i.', result=-1.0)"
      ]
     },
     "execution_count": 30,
     "metadata": {},
     "output_type": "execute_result"
    }
   ],
   "source": [
    "ret"
   ]
  },
  {
   "cell_type": "code",
   "execution_count": null,
   "id": "a92e88cb",
   "metadata": {},
   "outputs": [],
   "source": [
    "messages = get_conversation_one_turn(system_msg=\"You are a calculator.\",\n",
    "                                      user_msg=\"What is the square root of i^2?\")"
   ]
  },
  {
   "cell_type": "code",
   "execution_count": null,
   "id": "4a98a48b",
   "metadata": {},
   "outputs": [],
   "source": [
    "tokenzier = AutoTokenizer.from_pretrained(\"Qwen/Qwen3-32B\")"
   ]
  },
  {
   "cell_type": "code",
   "execution_count": 38,
   "id": "dfd9b417",
   "metadata": {},
   "outputs": [
    {
     "name": "stdout",
     "output_type": "stream",
     "text": [
      "\u001b[38;2;254;0;0m<|im_start|>system\u001b[0m \n",
      "\u001b[38;2;255;0;0mYou\u001b[0m \u001b[38;2;4;250;0mare\u001b[0m \u001b[38;2;225;29;0ma\u001b[0m \u001b[38;2;254;0;0mcalculator.<|im_end|>\u001b[0m \n",
      "\u001b[38;2;254;0;0m<|im_start|>user\u001b[0m \n",
      "\u001b[38;2;254;0;0mWhat\u001b[0m \u001b[38;2;19;235;0mis\u001b[0m \u001b[38;2;214;40;0mthe\u001b[0m \u001b[38;2;248;6;0msquare\u001b[0m \u001b[38;2;96;158;0mroot\u001b[0m \u001b[38;2;0;255;0mof\u001b[0m \u001b[38;2;242;12;0mi^2?<|im_end|>\u001b[0m\n"
     ]
    },
    {
     "data": {
      "text/plain": [
       "([{'word': '<|im_start|>system', 'probability': 0.002434095879395322},\n",
       "  {'word': '\\n', 'probability': 0.9437415323594567},\n",
       "  {'word': 'You', 'probability': 3.0866061144135373e-06},\n",
       "  {'word': 'are', 'probability': 0.9783705742288814},\n",
       "  {'word': 'a', 'probability': 0.1171738146431303},\n",
       "  {'word': 'calculator.<|im_end|>', 'probability': 0.00044714252214998756},\n",
       "  {'word': '\\n', 'probability': 0.0021175480235526233},\n",
       "  {'word': '<|im_start|>user', 'probability': 0.00229015435023361},\n",
       "  {'word': '\\n', 'probability': 0.5589197813168233},\n",
       "  {'word': 'What', 'probability': 8.307139599103397e-05},\n",
       "  {'word': 'is', 'probability': 0.920382179256267},\n",
       "  {'word': 'the', 'probability': 0.15756041827161377},\n",
       "  {'word': 'square', 'probability': 0.027006153778085445},\n",
       "  {'word': 'root', 'probability': 0.618580449639966},\n",
       "  {'word': 'of', 'probability': 0.9973074175095388},\n",
       "  {'word': 'i^2?<|im_end|>', 'probability': 0.049814276275966726},\n",
       "  {'word': '\\n', 'probability': 0.9046295374753197}],\n",
       " [{'151644': {'logprob': -1, 'rank': 1, 'decoded_token': '<|im_start|>'}},\n",
       "  {'8948': {'logprob': -11.036359786987305,\n",
       "    'rank': 9571,\n",
       "    'decoded_token': 'system'}},\n",
       "  {'198': {'logprob': -0.057902950793504715, 'rank': 1, 'decoded_token': 'Ċ'}},\n",
       "  {'2610': {'logprob': -12.688438415527344,\n",
       "    'rank': 46,\n",
       "    'decoded_token': 'You'}},\n",
       "  {'525': {'logprob': -0.021866770461201668,\n",
       "    'rank': 1,\n",
       "    'decoded_token': 'Ġare'}},\n",
       "  {'264': {'logprob': -2.144096851348877, 'rank': 2, 'decoded_token': 'Ġa'}},\n",
       "  {'29952': {'logprob': -12.357768058776855,\n",
       "    'rank': 2613,\n",
       "    'decoded_token': 'Ġcalculator'}},\n",
       "  {'13': {'logprob': -1.6405888795852661, 'rank': 1, 'decoded_token': '.'}},\n",
       "  {'151645': {'logprob': -9.139542579650879,\n",
       "    'rank': 184,\n",
       "    'decoded_token': '<|im_end|>'}},\n",
       "  {'198': {'logprob': -6.157496452331543, 'rank': 3, 'decoded_token': 'Ċ'}},\n",
       "  {'151644': {'logprob': -0.00021681819634977728,\n",
       "    'rank': 1,\n",
       "    'decoded_token': '<|im_start|>'}},\n",
       "  {'872': {'logprob': -12.158055305480957,\n",
       "    'rank': 246,\n",
       "    'decoded_token': 'user'}},\n",
       "  {'198': {'logprob': -0.5817493200302124, 'rank': 1, 'decoded_token': 'Ċ'}},\n",
       "  {'3838': {'logprob': -9.3958101272583, 'rank': 7, 'decoded_token': 'What'}},\n",
       "  {'374': {'logprob': -0.08296628296375275,\n",
       "    'rank': 1,\n",
       "    'decoded_token': 'Ġis'}},\n",
       "  {'279': {'logprob': -1.847946286201477, 'rank': 2, 'decoded_token': 'Ġthe'}},\n",
       "  {'9334': {'logprob': -3.6116905212402344,\n",
       "    'rank': 7,\n",
       "    'decoded_token': 'Ġsquare'}},\n",
       "  {'3704': {'logprob': -0.4803280234336853,\n",
       "    'rank': 1,\n",
       "    'decoded_token': 'Ġroot'}},\n",
       "  {'315': {'logprob': -0.002696214010939002,\n",
       "    'rank': 1,\n",
       "    'decoded_token': 'Ġof'}},\n",
       "  {'600': {'logprob': -7.4435625076293945, 'rank': 12, 'decoded_token': 'Ġi'}},\n",
       "  {'61': {'logprob': -4.812808036804199, 'rank': 11, 'decoded_token': '^'}},\n",
       "  {'17': {'logprob': -0.6044329404830933, 'rank': 1, 'decoded_token': '2'}},\n",
       "  {'30': {'logprob': -1.2528547048568726, 'rank': 2, 'decoded_token': '?'}},\n",
       "  {'151645': {'logprob': -0.8836101293563843,\n",
       "    'rank': 1,\n",
       "    'decoded_token': '<|im_end|>'}},\n",
       "  {'198': {'logprob': -0.10022976994514465, 'rank': 1, 'decoded_token': 'Ċ'}}],\n",
       " '\\x1b[38;2;254;0;0m<|im_start|>system\\x1b[0m \\n\\x1b[38;2;255;0;0mYou\\x1b[0m \\x1b[38;2;4;250;0mare\\x1b[0m \\x1b[38;2;225;29;0ma\\x1b[0m \\x1b[38;2;254;0;0mcalculator.<|im_end|>\\x1b[0m \\n\\x1b[38;2;254;0;0m<|im_start|>user\\x1b[0m \\n\\x1b[38;2;254;0;0mWhat\\x1b[0m \\x1b[38;2;19;235;0mis\\x1b[0m \\x1b[38;2;214;40;0mthe\\x1b[0m \\x1b[38;2;248;6;0msquare\\x1b[0m \\x1b[38;2;96;158;0mroot\\x1b[0m \\x1b[38;2;0;255;0mof\\x1b[0m \\x1b[38;2;242;12;0mi^2?<|im_end|>\\x1b[0m')"
      ]
     },
     "execution_count": 38,
     "metadata": {},
     "output_type": "execute_result"
    }
   ],
   "source": [
    "slm.inspect_word_probs(messages=messages, tokenizer=tokenzier)"
   ]
  },
  {
   "cell_type": "code",
   "execution_count": 41,
   "id": "6de02169",
   "metadata": {},
   "outputs": [
    {
     "name": "stdout",
     "output_type": "stream",
     "text": [
      "\u001b[38;2;254;0;0m<|im_start|>system\u001b[0m \n",
      "\u001b[38;2;255;0;0mYou\u001b[0m \u001b[38;2;4;250;0mare\u001b[0m \u001b[38;2;225;29;0ma\u001b[0m \u001b[38;2;254;0;0mcalculator.<|im_end|>\u001b[0m \n",
      "\u001b[38;2;254;0;0m<|im_start|>user\u001b[0m \n",
      "\u001b[38;2;254;0;0mWhat\u001b[0m \u001b[38;2;19;235;0mis\u001b[0m \u001b[38;2;214;40;0mthe\u001b[0m \u001b[38;2;248;6;0msquare\u001b[0m \u001b[38;2;96;158;0mroot\u001b[0m \u001b[38;2;0;255;0mof\u001b[0m \u001b[38;2;242;12;0mi^2?<|im_end|>\u001b[0m\n"
     ]
    },
    {
     "data": {
      "text/plain": [
       "([{'word': '<|im_start|>system', 'probability': 0.002434095879395322},\n",
       "  {'word': '\\n', 'probability': 0.9437415323594567},\n",
       "  {'word': 'You', 'probability': 3.0866061144135373e-06},\n",
       "  {'word': 'are', 'probability': 0.9783705742288814},\n",
       "  {'word': 'a', 'probability': 0.1171738146431303},\n",
       "  {'word': 'calculator.<|im_end|>', 'probability': 0.00044714252214998756},\n",
       "  {'word': '\\n', 'probability': 0.0021175480235526233},\n",
       "  {'word': '<|im_start|>user', 'probability': 0.00229015435023361},\n",
       "  {'word': '\\n', 'probability': 0.5589197813168233},\n",
       "  {'word': 'What', 'probability': 8.307139599103397e-05},\n",
       "  {'word': 'is', 'probability': 0.920382179256267},\n",
       "  {'word': 'the', 'probability': 0.15756041827161377},\n",
       "  {'word': 'square', 'probability': 0.027006153778085445},\n",
       "  {'word': 'root', 'probability': 0.618580449639966},\n",
       "  {'word': 'of', 'probability': 0.9973074175095388},\n",
       "  {'word': 'i^2?<|im_end|>', 'probability': 0.049814276275966726},\n",
       "  {'word': '\\n', 'probability': 0.9046295374753197}],\n",
       " [{'151644': {'logprob': -1, 'rank': 1, 'decoded_token': '<|im_start|>'}},\n",
       "  {'8948': {'logprob': -11.036359786987305,\n",
       "    'rank': 9571,\n",
       "    'decoded_token': 'system'}},\n",
       "  {'198': {'logprob': -0.057902950793504715, 'rank': 1, 'decoded_token': 'Ċ'}},\n",
       "  {'2610': {'logprob': -12.688438415527344,\n",
       "    'rank': 46,\n",
       "    'decoded_token': 'You'}},\n",
       "  {'525': {'logprob': -0.021866770461201668,\n",
       "    'rank': 1,\n",
       "    'decoded_token': 'Ġare'}},\n",
       "  {'264': {'logprob': -2.144096851348877, 'rank': 2, 'decoded_token': 'Ġa'}},\n",
       "  {'29952': {'logprob': -12.357768058776855,\n",
       "    'rank': 2613,\n",
       "    'decoded_token': 'Ġcalculator'}},\n",
       "  {'13': {'logprob': -1.6405888795852661, 'rank': 1, 'decoded_token': '.'}},\n",
       "  {'151645': {'logprob': -9.139542579650879,\n",
       "    'rank': 184,\n",
       "    'decoded_token': '<|im_end|>'}},\n",
       "  {'198': {'logprob': -6.157496452331543, 'rank': 3, 'decoded_token': 'Ċ'}},\n",
       "  {'151644': {'logprob': -0.00021681819634977728,\n",
       "    'rank': 1,\n",
       "    'decoded_token': '<|im_start|>'}},\n",
       "  {'872': {'logprob': -12.158055305480957,\n",
       "    'rank': 246,\n",
       "    'decoded_token': 'user'}},\n",
       "  {'198': {'logprob': -0.5817493200302124, 'rank': 1, 'decoded_token': 'Ċ'}},\n",
       "  {'3838': {'logprob': -9.3958101272583, 'rank': 7, 'decoded_token': 'What'}},\n",
       "  {'374': {'logprob': -0.08296628296375275,\n",
       "    'rank': 1,\n",
       "    'decoded_token': 'Ġis'}},\n",
       "  {'279': {'logprob': -1.847946286201477, 'rank': 2, 'decoded_token': 'Ġthe'}},\n",
       "  {'9334': {'logprob': -3.6116905212402344,\n",
       "    'rank': 7,\n",
       "    'decoded_token': 'Ġsquare'}},\n",
       "  {'3704': {'logprob': -0.4803280234336853,\n",
       "    'rank': 1,\n",
       "    'decoded_token': 'Ġroot'}},\n",
       "  {'315': {'logprob': -0.002696214010939002,\n",
       "    'rank': 1,\n",
       "    'decoded_token': 'Ġof'}},\n",
       "  {'600': {'logprob': -7.4435625076293945, 'rank': 12, 'decoded_token': 'Ġi'}},\n",
       "  {'61': {'logprob': -4.812808036804199, 'rank': 11, 'decoded_token': '^'}},\n",
       "  {'17': {'logprob': -0.6044329404830933, 'rank': 1, 'decoded_token': '2'}},\n",
       "  {'30': {'logprob': -1.2528547048568726, 'rank': 2, 'decoded_token': '?'}},\n",
       "  {'151645': {'logprob': -0.8836101293563843,\n",
       "    'rank': 1,\n",
       "    'decoded_token': '<|im_end|>'}},\n",
       "  {'198': {'logprob': -0.10022976994514465, 'rank': 1, 'decoded_token': 'Ċ'}}],\n",
       " '\\x1b[38;2;254;0;0m<|im_start|>system\\x1b[0m \\n\\x1b[38;2;255;0;0mYou\\x1b[0m \\x1b[38;2;4;250;0mare\\x1b[0m \\x1b[38;2;225;29;0ma\\x1b[0m \\x1b[38;2;254;0;0mcalculator.<|im_end|>\\x1b[0m \\n\\x1b[38;2;254;0;0m<|im_start|>user\\x1b[0m \\n\\x1b[38;2;254;0;0mWhat\\x1b[0m \\x1b[38;2;19;235;0mis\\x1b[0m \\x1b[38;2;214;40;0mthe\\x1b[0m \\x1b[38;2;248;6;0msquare\\x1b[0m \\x1b[38;2;96;158;0mroot\\x1b[0m \\x1b[38;2;0;255;0mof\\x1b[0m \\x1b[38;2;242;12;0mi^2?<|im_end|>\\x1b[0m')"
      ]
     },
     "execution_count": 41,
     "metadata": {},
     "output_type": "execute_result"
    }
   ],
   "source": [
    "await lm.inspect_word_probs(messages=messages, tokenizer=tokenzier)"
   ]
  },
  {
   "cell_type": "code",
   "execution_count": 42,
   "id": "e818c743",
   "metadata": {},
   "outputs": [
    {
     "data": {
      "text/plain": [
       "[{'role': 'system', 'content': 'You are a calculator.\\n\\n/no_think'},\n",
       " {'role': 'user', 'content': 'What is the square root of pi?'},\n",
       " {'role': 'assistant',\n",
       "  'content': '<think>\\n\\n</think>\\n{\"reasoning\": \"The square root of pi is a mathematical operation. I will calculate the square root of the value of pi, which is approximately 3.141592653589793.\", \"result\": 1.7724538509055159}'}]"
      ]
     },
     "execution_count": 42,
     "metadata": {},
     "output_type": "execute_result"
    }
   ],
   "source": [
    "slm.last_messages()"
   ]
  },
  {
   "cell_type": "code",
   "execution_count": 43,
   "id": "4426d886",
   "metadata": {},
   "outputs": [
    {
     "data": {
      "text/plain": [
       "[{'role': 'system', 'content': 'You are a calculator.\\n\\n/no_think'},\n",
       " {'role': 'user', 'content': 'What is the square root of i^2?'},\n",
       " {'role': 'assistant',\n",
       "  'content': '<think>\\n\\n</think>\\n{\\n\"reasoning\": \"To find the square root of i^2, we first need to calculate i^2. The imaginary unit i is defined as the square root of -1, so i^2 = -1. Now, we need to find the square root of -1. The square root of -1 is defined as i, so the square root of i^2 is i.\",\\n\"result\": -1\\n}'}]"
      ]
     },
     "execution_count": 43,
     "metadata": {},
     "output_type": "execute_result"
    }
   ],
   "source": [
    "await lm.last_messages()"
   ]
  },
  {
   "cell_type": "code",
   "execution_count": null,
   "id": "cf67330f",
   "metadata": {},
   "outputs": [],
   "source": [
    "from llm_utils.lm.alm import AsyncLLMTask\n",
    "\n",
    "class TranslateInput(BaseModel):\n",
    "    source_text: str\n",
    "    target_lang: str\n",
    "    source_lang: str\n",
    "\n",
    "class TranslateOutput(BaseModel):\n",
    "    translation: str\n",
    "    \n",
    "class TranslateTask(AsyncLLMTask):\n",
    "    \"\"\"You are a translator. Your task is to translate the given text from one language to another\"\"\"\n",
    "    lm = AsyncLM(port=8180)\n",
    "    InputModel = TranslateInput\n",
    "    OutputModel = TranslateOutput\n",
    "\n"
   ]
  },
  {
   "cell_type": "code",
   "execution_count": 45,
   "id": "56917c0e",
   "metadata": {},
   "outputs": [],
   "source": [
    "alm_task = TranslateTask()"
   ]
  },
  {
   "cell_type": "code",
   "execution_count": 46,
   "id": "b1e93a89",
   "metadata": {},
   "outputs": [],
   "source": [
    "output = await alm_task(TranslateInput(source_text=\"Hello, how are you?\",\n",
    "                                            target_lang=\"French\",\n",
    "                                            source_lang=\"English\"))"
   ]
  },
  {
   "cell_type": "code",
   "execution_count": 47,
   "id": "f849eb91",
   "metadata": {},
   "outputs": [
    {
     "data": {
      "text/plain": [
       "TranslateOutput(translation='Bonjour, comment vas-tu ?')"
      ]
     },
     "execution_count": 47,
     "metadata": {},
     "output_type": "execute_result"
    }
   ],
   "source": [
    "output"
   ]
  },
  {
   "cell_type": "code",
   "execution_count": 2,
   "id": "d3e40020",
   "metadata": {},
   "outputs": [
    {
     "name": "stderr",
     "output_type": "stream",
     "text": [
      "\u001b[32m2025-05-30 12:41:10.781\u001b[0m | \u001b[34m\u001b[1mDEBUG   \u001b[0m | \u001b[36mllm_utils.lm.lm\u001b[0m:\u001b[36mlist_models\u001b[0m:\u001b[36m482\u001b[0m - \u001b[34m\u001b[1mBase URL: http://localhost:8140/v1/\u001b[0m\n",
      "\u001b[32m2025-05-30 12:41:10.902\u001b[0m | \u001b[34m\u001b[1mDEBUG   \u001b[0m | \u001b[36mllm_utils.lm.lm\u001b[0m:\u001b[36mmodel\u001b[0m:\u001b[36m107\u001b[0m - \u001b[34m\u001b[1mModel not set, using first available model: ./model_store/Qwen/Qwen3-32B-FP8\u001b[0m\n"
     ]
    },
    {
     "name": "stdout",
     "output_type": "stream",
     "text": [
      "Default font size: 4px\n"
     ]
    },
    {
     "data": {
      "text/html": [],
      "text/plain": [
       "<IPython.core.display.HTML object>"
      ]
     },
     "metadata": {},
     "output_type": "display_data"
    },
    {
     "ename": "KeyboardInterrupt",
     "evalue": "",
     "output_type": "error",
     "traceback": [
      "\u001b[31m---------------------------------------------------------------------------\u001b[39m",
      "\u001b[31mKeyboardInterrupt\u001b[39m                         Traceback (most recent call last)",
      "\u001b[36mCell\u001b[39m\u001b[36m \u001b[39m\u001b[32mIn[2]\u001b[39m\u001b[32m, line 9\u001b[39m\n\u001b[32m      7\u001b[39m \u001b[38;5;28mprint\u001b[39m(\u001b[33mf\u001b[39m\u001b[33m\"\u001b[39m\u001b[33mDefault font size: \u001b[39m\u001b[38;5;132;01m{\u001b[39;00mlm.font_size\u001b[38;5;132;01m}\u001b[39;00m\u001b[33mpx\u001b[39m\u001b[33m\"\u001b[39m)\n\u001b[32m      8\u001b[39m \u001b[38;5;66;03m# Test streaming with improved HTML mode in Jupyter\u001b[39;00m\n\u001b[32m----> \u001b[39m\u001b[32m9\u001b[39m response = \u001b[43mlm\u001b[49m\u001b[43m.\u001b[49m\u001b[43mchat_stream\u001b[49m\u001b[43m(\u001b[49m\n\u001b[32m     10\u001b[39m \u001b[43m    \u001b[49m\u001b[43mprompt\u001b[49m\u001b[43m=\u001b[49m\u001b[33;43m'\u001b[39;49m\u001b[33;43mHello /think\u001b[39;49m\u001b[33;43m'\u001b[39;49m\u001b[43m,\u001b[49m\n\u001b[32m     11\u001b[39m \u001b[43m    \u001b[49m\u001b[43mhtml_mode\u001b[49m\u001b[43m=\u001b[49m\u001b[38;5;28;43;01mTrue\u001b[39;49;00m\u001b[43m,\u001b[49m\n\u001b[32m     12\u001b[39m \u001b[43m    \u001b[49m\u001b[43mmax_tokens\u001b[49m\u001b[43m=\u001b[49m\u001b[32;43m10000\u001b[39;49m\u001b[43m,\u001b[49m\u001b[43m \u001b[49m\n\u001b[32m     13\u001b[39m \u001b[43m    \u001b[49m\u001b[38;5;66;43;03m# show_input=True\u001b[39;49;00m\n\u001b[32m     14\u001b[39m \u001b[43m)\u001b[49m\n",
      "\u001b[36mFile \u001b[39m\u001b[32m~/projects/speedy_utils/src/llm_utils/lm/chat_html.py:222\u001b[39m, in \u001b[36mLMChatHtml.chat_stream\u001b[39m\u001b[34m(self, prompt, messages, html_mode, font_size, padding, inner_padding, **kwargs)\u001b[39m\n\u001b[32m    218\u001b[39m \u001b[38;5;28;01mif\u001b[39;00m html_mode \u001b[38;5;129;01mand\u001b[39;00m is_jupyter:\n\u001b[32m    219\u001b[39m     \u001b[38;5;66;03m# Create initial display handle\u001b[39;00m\n\u001b[32m    220\u001b[39m     display_handle = display(HTML(\u001b[33m\"\u001b[39m\u001b[33m\"\u001b[39m), display_id=\u001b[38;5;28;01mTrue\u001b[39;00m)\n\u001b[32m--> \u001b[39m\u001b[32m222\u001b[39m \u001b[43m    \u001b[49m\u001b[38;5;28;43;01mfor\u001b[39;49;00m\u001b[43m \u001b[49m\u001b[43mchunk\u001b[49m\u001b[43m \u001b[49m\u001b[38;5;129;43;01min\u001b[39;49;00m\u001b[43m \u001b[49m\u001b[43mstream\u001b[49m\u001b[43m:\u001b[49m\n\u001b[32m    223\u001b[39m \u001b[43m        \u001b[49m\u001b[38;5;28;43;01mif\u001b[39;49;00m\u001b[43m \u001b[49m\u001b[43mchunk\u001b[49m\u001b[43m.\u001b[49m\u001b[43mchoices\u001b[49m\u001b[43m[\u001b[49m\u001b[32;43m0\u001b[39;49m\u001b[43m]\u001b[49m\u001b[43m.\u001b[49m\u001b[43mdelta\u001b[49m\u001b[43m.\u001b[49m\u001b[43mcontent\u001b[49m\u001b[43m \u001b[49m\u001b[38;5;129;43;01mis\u001b[39;49;00m\u001b[43m \u001b[49m\u001b[38;5;129;43;01mnot\u001b[39;49;00m\u001b[43m \u001b[49m\u001b[38;5;28;43;01mNone\u001b[39;49;00m\u001b[43m:\u001b[49m\n\u001b[32m    224\u001b[39m \u001b[43m            \u001b[49m\u001b[43mchunk_content\u001b[49m\u001b[43m \u001b[49m\u001b[43m=\u001b[49m\u001b[43m \u001b[49m\u001b[43mchunk\u001b[49m\u001b[43m.\u001b[49m\u001b[43mchoices\u001b[49m\u001b[43m[\u001b[49m\u001b[32;43m0\u001b[39;49m\u001b[43m]\u001b[49m\u001b[43m.\u001b[49m\u001b[43mdelta\u001b[49m\u001b[43m.\u001b[49m\u001b[43mcontent\u001b[49m\n",
      "\u001b[36mFile \u001b[39m\u001b[32m~/miniconda3/envs/poly/lib/python3.12/site-packages/openai/_streaming.py:46\u001b[39m, in \u001b[36mStream.__iter__\u001b[39m\u001b[34m(self)\u001b[39m\n\u001b[32m     45\u001b[39m \u001b[38;5;28;01mdef\u001b[39;00m\u001b[38;5;250m \u001b[39m\u001b[34m__iter__\u001b[39m(\u001b[38;5;28mself\u001b[39m) -> Iterator[_T]:\n\u001b[32m---> \u001b[39m\u001b[32m46\u001b[39m \u001b[43m    \u001b[49m\u001b[38;5;28;43;01mfor\u001b[39;49;00m\u001b[43m \u001b[49m\u001b[43mitem\u001b[49m\u001b[43m \u001b[49m\u001b[38;5;129;43;01min\u001b[39;49;00m\u001b[43m \u001b[49m\u001b[38;5;28;43mself\u001b[39;49m\u001b[43m.\u001b[49m\u001b[43m_iterator\u001b[49m\u001b[43m:\u001b[49m\n\u001b[32m     47\u001b[39m \u001b[43m        \u001b[49m\u001b[38;5;28;43;01myield\u001b[39;49;00m\u001b[43m \u001b[49m\u001b[43mitem\u001b[49m\n",
      "\u001b[36mFile \u001b[39m\u001b[32m~/miniconda3/envs/poly/lib/python3.12/site-packages/openai/_streaming.py:58\u001b[39m, in \u001b[36mStream.__stream__\u001b[39m\u001b[34m(self)\u001b[39m\n\u001b[32m     55\u001b[39m process_data = \u001b[38;5;28mself\u001b[39m._client._process_response_data\n\u001b[32m     56\u001b[39m iterator = \u001b[38;5;28mself\u001b[39m._iter_events()\n\u001b[32m---> \u001b[39m\u001b[32m58\u001b[39m \u001b[43m\u001b[49m\u001b[38;5;28;43;01mfor\u001b[39;49;00m\u001b[43m \u001b[49m\u001b[43msse\u001b[49m\u001b[43m \u001b[49m\u001b[38;5;129;43;01min\u001b[39;49;00m\u001b[43m \u001b[49m\u001b[43miterator\u001b[49m\u001b[43m:\u001b[49m\n\u001b[32m     59\u001b[39m \u001b[43m    \u001b[49m\u001b[38;5;28;43;01mif\u001b[39;49;00m\u001b[43m \u001b[49m\u001b[43msse\u001b[49m\u001b[43m.\u001b[49m\u001b[43mdata\u001b[49m\u001b[43m.\u001b[49m\u001b[43mstartswith\u001b[49m\u001b[43m(\u001b[49m\u001b[33;43m\"\u001b[39;49m\u001b[33;43m[DONE]\u001b[39;49m\u001b[33;43m\"\u001b[39;49m\u001b[43m)\u001b[49m\u001b[43m:\u001b[49m\n\u001b[32m     60\u001b[39m \u001b[43m        \u001b[49m\u001b[38;5;28;43;01mbreak\u001b[39;49;00m\n",
      "\u001b[36mFile \u001b[39m\u001b[32m~/miniconda3/envs/poly/lib/python3.12/site-packages/openai/_streaming.py:50\u001b[39m, in \u001b[36mStream._iter_events\u001b[39m\u001b[34m(self)\u001b[39m\n\u001b[32m     49\u001b[39m \u001b[38;5;28;01mdef\u001b[39;00m\u001b[38;5;250m \u001b[39m\u001b[34m_iter_events\u001b[39m(\u001b[38;5;28mself\u001b[39m) -> Iterator[ServerSentEvent]:\n\u001b[32m---> \u001b[39m\u001b[32m50\u001b[39m     \u001b[38;5;28;01myield from\u001b[39;00m \u001b[38;5;28mself\u001b[39m._decoder.iter_bytes(\u001b[38;5;28mself\u001b[39m.response.iter_bytes())\n",
      "\u001b[36mFile \u001b[39m\u001b[32m~/miniconda3/envs/poly/lib/python3.12/site-packages/openai/_streaming.py:280\u001b[39m, in \u001b[36mSSEDecoder.iter_bytes\u001b[39m\u001b[34m(self, iterator)\u001b[39m\n\u001b[32m    278\u001b[39m \u001b[38;5;28;01mdef\u001b[39;00m\u001b[38;5;250m \u001b[39m\u001b[34miter_bytes\u001b[39m(\u001b[38;5;28mself\u001b[39m, iterator: Iterator[\u001b[38;5;28mbytes\u001b[39m]) -> Iterator[ServerSentEvent]:\n\u001b[32m    279\u001b[39m \u001b[38;5;250m    \u001b[39m\u001b[33;03m\"\"\"Given an iterator that yields raw binary data, iterate over it & yield every event encountered\"\"\"\u001b[39;00m\n\u001b[32m--> \u001b[39m\u001b[32m280\u001b[39m \u001b[43m    \u001b[49m\u001b[38;5;28;43;01mfor\u001b[39;49;00m\u001b[43m \u001b[49m\u001b[43mchunk\u001b[49m\u001b[43m \u001b[49m\u001b[38;5;129;43;01min\u001b[39;49;00m\u001b[43m \u001b[49m\u001b[38;5;28;43mself\u001b[39;49m\u001b[43m.\u001b[49m\u001b[43m_iter_chunks\u001b[49m\u001b[43m(\u001b[49m\u001b[43miterator\u001b[49m\u001b[43m)\u001b[49m\u001b[43m:\u001b[49m\n\u001b[32m    281\u001b[39m \u001b[43m        \u001b[49m\u001b[38;5;66;43;03m# Split before decoding so splitlines() only uses \\r and \\n\u001b[39;49;00m\n\u001b[32m    282\u001b[39m \u001b[43m        \u001b[49m\u001b[38;5;28;43;01mfor\u001b[39;49;00m\u001b[43m \u001b[49m\u001b[43mraw_line\u001b[49m\u001b[43m \u001b[49m\u001b[38;5;129;43;01min\u001b[39;49;00m\u001b[43m \u001b[49m\u001b[43mchunk\u001b[49m\u001b[43m.\u001b[49m\u001b[43msplitlines\u001b[49m\u001b[43m(\u001b[49m\u001b[43m)\u001b[49m\u001b[43m:\u001b[49m\n\u001b[32m    283\u001b[39m \u001b[43m            \u001b[49m\u001b[43mline\u001b[49m\u001b[43m \u001b[49m\u001b[43m=\u001b[49m\u001b[43m \u001b[49m\u001b[43mraw_line\u001b[49m\u001b[43m.\u001b[49m\u001b[43mdecode\u001b[49m\u001b[43m(\u001b[49m\u001b[33;43m\"\u001b[39;49m\u001b[33;43mutf-8\u001b[39;49m\u001b[33;43m\"\u001b[39;49m\u001b[43m)\u001b[49m\n",
      "\u001b[36mFile \u001b[39m\u001b[32m~/miniconda3/envs/poly/lib/python3.12/site-packages/openai/_streaming.py:291\u001b[39m, in \u001b[36mSSEDecoder._iter_chunks\u001b[39m\u001b[34m(self, iterator)\u001b[39m\n\u001b[32m    289\u001b[39m \u001b[38;5;250m\u001b[39m\u001b[33;03m\"\"\"Given an iterator that yields raw binary data, iterate over it and yield individual SSE chunks\"\"\"\u001b[39;00m\n\u001b[32m    290\u001b[39m data = \u001b[33mb\u001b[39m\u001b[33m\"\u001b[39m\u001b[33m\"\u001b[39m\n\u001b[32m--> \u001b[39m\u001b[32m291\u001b[39m \u001b[43m\u001b[49m\u001b[38;5;28;43;01mfor\u001b[39;49;00m\u001b[43m \u001b[49m\u001b[43mchunk\u001b[49m\u001b[43m \u001b[49m\u001b[38;5;129;43;01min\u001b[39;49;00m\u001b[43m \u001b[49m\u001b[43miterator\u001b[49m\u001b[43m:\u001b[49m\n\u001b[32m    292\u001b[39m \u001b[43m    \u001b[49m\u001b[38;5;28;43;01mfor\u001b[39;49;00m\u001b[43m \u001b[49m\u001b[43mline\u001b[49m\u001b[43m \u001b[49m\u001b[38;5;129;43;01min\u001b[39;49;00m\u001b[43m \u001b[49m\u001b[43mchunk\u001b[49m\u001b[43m.\u001b[49m\u001b[43msplitlines\u001b[49m\u001b[43m(\u001b[49m\u001b[43mkeepends\u001b[49m\u001b[43m=\u001b[49m\u001b[38;5;28;43;01mTrue\u001b[39;49;00m\u001b[43m)\u001b[49m\u001b[43m:\u001b[49m\n\u001b[32m    293\u001b[39m \u001b[43m        \u001b[49m\u001b[43mdata\u001b[49m\u001b[43m \u001b[49m\u001b[43m+\u001b[49m\u001b[43m=\u001b[49m\u001b[43m \u001b[49m\u001b[43mline\u001b[49m\n",
      "\u001b[36mFile \u001b[39m\u001b[32m~/miniconda3/envs/poly/lib/python3.12/site-packages/httpx/_models.py:897\u001b[39m, in \u001b[36mResponse.iter_bytes\u001b[39m\u001b[34m(self, chunk_size)\u001b[39m\n\u001b[32m    895\u001b[39m chunker = ByteChunker(chunk_size=chunk_size)\n\u001b[32m    896\u001b[39m \u001b[38;5;28;01mwith\u001b[39;00m request_context(request=\u001b[38;5;28mself\u001b[39m._request):\n\u001b[32m--> \u001b[39m\u001b[32m897\u001b[39m \u001b[43m    \u001b[49m\u001b[38;5;28;43;01mfor\u001b[39;49;00m\u001b[43m \u001b[49m\u001b[43mraw_bytes\u001b[49m\u001b[43m \u001b[49m\u001b[38;5;129;43;01min\u001b[39;49;00m\u001b[43m \u001b[49m\u001b[38;5;28;43mself\u001b[39;49m\u001b[43m.\u001b[49m\u001b[43miter_raw\u001b[49m\u001b[43m(\u001b[49m\u001b[43m)\u001b[49m\u001b[43m:\u001b[49m\n\u001b[32m    898\u001b[39m \u001b[43m        \u001b[49m\u001b[43mdecoded\u001b[49m\u001b[43m \u001b[49m\u001b[43m=\u001b[49m\u001b[43m \u001b[49m\u001b[43mdecoder\u001b[49m\u001b[43m.\u001b[49m\u001b[43mdecode\u001b[49m\u001b[43m(\u001b[49m\u001b[43mraw_bytes\u001b[49m\u001b[43m)\u001b[49m\n\u001b[32m    899\u001b[39m \u001b[43m        \u001b[49m\u001b[38;5;28;43;01mfor\u001b[39;49;00m\u001b[43m \u001b[49m\u001b[43mchunk\u001b[49m\u001b[43m \u001b[49m\u001b[38;5;129;43;01min\u001b[39;49;00m\u001b[43m \u001b[49m\u001b[43mchunker\u001b[49m\u001b[43m.\u001b[49m\u001b[43mdecode\u001b[49m\u001b[43m(\u001b[49m\u001b[43mdecoded\u001b[49m\u001b[43m)\u001b[49m\u001b[43m:\u001b[49m\n",
      "\u001b[36mFile \u001b[39m\u001b[32m~/miniconda3/envs/poly/lib/python3.12/site-packages/httpx/_models.py:951\u001b[39m, in \u001b[36mResponse.iter_raw\u001b[39m\u001b[34m(self, chunk_size)\u001b[39m\n\u001b[32m    948\u001b[39m chunker = ByteChunker(chunk_size=chunk_size)\n\u001b[32m    950\u001b[39m \u001b[38;5;28;01mwith\u001b[39;00m request_context(request=\u001b[38;5;28mself\u001b[39m._request):\n\u001b[32m--> \u001b[39m\u001b[32m951\u001b[39m \u001b[43m    \u001b[49m\u001b[38;5;28;43;01mfor\u001b[39;49;00m\u001b[43m \u001b[49m\u001b[43mraw_stream_bytes\u001b[49m\u001b[43m \u001b[49m\u001b[38;5;129;43;01min\u001b[39;49;00m\u001b[43m \u001b[49m\u001b[38;5;28;43mself\u001b[39;49m\u001b[43m.\u001b[49m\u001b[43mstream\u001b[49m\u001b[43m:\u001b[49m\n\u001b[32m    952\u001b[39m \u001b[43m        \u001b[49m\u001b[38;5;28;43mself\u001b[39;49m\u001b[43m.\u001b[49m\u001b[43m_num_bytes_downloaded\u001b[49m\u001b[43m \u001b[49m\u001b[43m+\u001b[49m\u001b[43m=\u001b[49m\u001b[43m \u001b[49m\u001b[38;5;28;43mlen\u001b[39;49m\u001b[43m(\u001b[49m\u001b[43mraw_stream_bytes\u001b[49m\u001b[43m)\u001b[49m\n\u001b[32m    953\u001b[39m \u001b[43m        \u001b[49m\u001b[38;5;28;43;01mfor\u001b[39;49;00m\u001b[43m \u001b[49m\u001b[43mchunk\u001b[49m\u001b[43m \u001b[49m\u001b[38;5;129;43;01min\u001b[39;49;00m\u001b[43m \u001b[49m\u001b[43mchunker\u001b[49m\u001b[43m.\u001b[49m\u001b[43mdecode\u001b[49m\u001b[43m(\u001b[49m\u001b[43mraw_stream_bytes\u001b[49m\u001b[43m)\u001b[49m\u001b[43m:\u001b[49m\n",
      "\u001b[36mFile \u001b[39m\u001b[32m~/miniconda3/envs/poly/lib/python3.12/site-packages/httpx/_client.py:153\u001b[39m, in \u001b[36mBoundSyncStream.__iter__\u001b[39m\u001b[34m(self)\u001b[39m\n\u001b[32m    152\u001b[39m \u001b[38;5;28;01mdef\u001b[39;00m\u001b[38;5;250m \u001b[39m\u001b[34m__iter__\u001b[39m(\u001b[38;5;28mself\u001b[39m) -> typing.Iterator[\u001b[38;5;28mbytes\u001b[39m]:\n\u001b[32m--> \u001b[39m\u001b[32m153\u001b[39m \u001b[43m    \u001b[49m\u001b[38;5;28;43;01mfor\u001b[39;49;00m\u001b[43m \u001b[49m\u001b[43mchunk\u001b[49m\u001b[43m \u001b[49m\u001b[38;5;129;43;01min\u001b[39;49;00m\u001b[43m \u001b[49m\u001b[38;5;28;43mself\u001b[39;49m\u001b[43m.\u001b[49m\u001b[43m_stream\u001b[49m\u001b[43m:\u001b[49m\n\u001b[32m    154\u001b[39m \u001b[43m        \u001b[49m\u001b[38;5;28;43;01myield\u001b[39;49;00m\u001b[43m \u001b[49m\u001b[43mchunk\u001b[49m\n",
      "\u001b[36mFile \u001b[39m\u001b[32m~/miniconda3/envs/poly/lib/python3.12/site-packages/httpx/_transports/default.py:127\u001b[39m, in \u001b[36mResponseStream.__iter__\u001b[39m\u001b[34m(self)\u001b[39m\n\u001b[32m    125\u001b[39m \u001b[38;5;28;01mdef\u001b[39;00m\u001b[38;5;250m \u001b[39m\u001b[34m__iter__\u001b[39m(\u001b[38;5;28mself\u001b[39m) -> typing.Iterator[\u001b[38;5;28mbytes\u001b[39m]:\n\u001b[32m    126\u001b[39m     \u001b[38;5;28;01mwith\u001b[39;00m map_httpcore_exceptions():\n\u001b[32m--> \u001b[39m\u001b[32m127\u001b[39m \u001b[43m        \u001b[49m\u001b[38;5;28;43;01mfor\u001b[39;49;00m\u001b[43m \u001b[49m\u001b[43mpart\u001b[49m\u001b[43m \u001b[49m\u001b[38;5;129;43;01min\u001b[39;49;00m\u001b[43m \u001b[49m\u001b[38;5;28;43mself\u001b[39;49m\u001b[43m.\u001b[49m\u001b[43m_httpcore_stream\u001b[49m\u001b[43m:\u001b[49m\n\u001b[32m    128\u001b[39m \u001b[43m            \u001b[49m\u001b[38;5;28;43;01myield\u001b[39;49;00m\u001b[43m \u001b[49m\u001b[43mpart\u001b[49m\n",
      "\u001b[36mFile \u001b[39m\u001b[32m~/miniconda3/envs/poly/lib/python3.12/site-packages/httpcore/_sync/connection_pool.py:407\u001b[39m, in \u001b[36mPoolByteStream.__iter__\u001b[39m\u001b[34m(self)\u001b[39m\n\u001b[32m    405\u001b[39m \u001b[38;5;28;01mexcept\u001b[39;00m \u001b[38;5;167;01mBaseException\u001b[39;00m \u001b[38;5;28;01mas\u001b[39;00m exc:\n\u001b[32m    406\u001b[39m     \u001b[38;5;28mself\u001b[39m.close()\n\u001b[32m--> \u001b[39m\u001b[32m407\u001b[39m     \u001b[38;5;28;01mraise\u001b[39;00m exc \u001b[38;5;28;01mfrom\u001b[39;00m\u001b[38;5;250m \u001b[39m\u001b[38;5;28;01mNone\u001b[39;00m\n",
      "\u001b[36mFile \u001b[39m\u001b[32m~/miniconda3/envs/poly/lib/python3.12/site-packages/httpcore/_sync/connection_pool.py:403\u001b[39m, in \u001b[36mPoolByteStream.__iter__\u001b[39m\u001b[34m(self)\u001b[39m\n\u001b[32m    401\u001b[39m \u001b[38;5;28;01mdef\u001b[39;00m\u001b[38;5;250m \u001b[39m\u001b[34m__iter__\u001b[39m(\u001b[38;5;28mself\u001b[39m) -> typing.Iterator[\u001b[38;5;28mbytes\u001b[39m]:\n\u001b[32m    402\u001b[39m     \u001b[38;5;28;01mtry\u001b[39;00m:\n\u001b[32m--> \u001b[39m\u001b[32m403\u001b[39m \u001b[43m        \u001b[49m\u001b[38;5;28;43;01mfor\u001b[39;49;00m\u001b[43m \u001b[49m\u001b[43mpart\u001b[49m\u001b[43m \u001b[49m\u001b[38;5;129;43;01min\u001b[39;49;00m\u001b[43m \u001b[49m\u001b[38;5;28;43mself\u001b[39;49m\u001b[43m.\u001b[49m\u001b[43m_stream\u001b[49m\u001b[43m:\u001b[49m\n\u001b[32m    404\u001b[39m \u001b[43m            \u001b[49m\u001b[38;5;28;43;01myield\u001b[39;49;00m\u001b[43m \u001b[49m\u001b[43mpart\u001b[49m\n\u001b[32m    405\u001b[39m     \u001b[38;5;28;01mexcept\u001b[39;00m \u001b[38;5;167;01mBaseException\u001b[39;00m \u001b[38;5;28;01mas\u001b[39;00m exc:\n",
      "\u001b[36mFile \u001b[39m\u001b[32m~/miniconda3/envs/poly/lib/python3.12/site-packages/httpcore/_sync/http11.py:342\u001b[39m, in \u001b[36mHTTP11ConnectionByteStream.__iter__\u001b[39m\u001b[34m(self)\u001b[39m\n\u001b[32m    340\u001b[39m \u001b[38;5;28;01mwith\u001b[39;00m ShieldCancellation():\n\u001b[32m    341\u001b[39m     \u001b[38;5;28mself\u001b[39m.close()\n\u001b[32m--> \u001b[39m\u001b[32m342\u001b[39m \u001b[38;5;28;01mraise\u001b[39;00m exc\n",
      "\u001b[36mFile \u001b[39m\u001b[32m~/miniconda3/envs/poly/lib/python3.12/site-packages/httpcore/_sync/http11.py:334\u001b[39m, in \u001b[36mHTTP11ConnectionByteStream.__iter__\u001b[39m\u001b[34m(self)\u001b[39m\n\u001b[32m    332\u001b[39m \u001b[38;5;28;01mtry\u001b[39;00m:\n\u001b[32m    333\u001b[39m     \u001b[38;5;28;01mwith\u001b[39;00m Trace(\u001b[33m\"\u001b[39m\u001b[33mreceive_response_body\u001b[39m\u001b[33m\"\u001b[39m, logger, \u001b[38;5;28mself\u001b[39m._request, kwargs):\n\u001b[32m--> \u001b[39m\u001b[32m334\u001b[39m \u001b[43m        \u001b[49m\u001b[38;5;28;43;01mfor\u001b[39;49;00m\u001b[43m \u001b[49m\u001b[43mchunk\u001b[49m\u001b[43m \u001b[49m\u001b[38;5;129;43;01min\u001b[39;49;00m\u001b[43m \u001b[49m\u001b[38;5;28;43mself\u001b[39;49m\u001b[43m.\u001b[49m\u001b[43m_connection\u001b[49m\u001b[43m.\u001b[49m\u001b[43m_receive_response_body\u001b[49m\u001b[43m(\u001b[49m\u001b[43m*\u001b[49m\u001b[43m*\u001b[49m\u001b[43mkwargs\u001b[49m\u001b[43m)\u001b[49m\u001b[43m:\u001b[49m\n\u001b[32m    335\u001b[39m \u001b[43m            \u001b[49m\u001b[38;5;28;43;01myield\u001b[39;49;00m\u001b[43m \u001b[49m\u001b[43mchunk\u001b[49m\n\u001b[32m    336\u001b[39m \u001b[38;5;28;01mexcept\u001b[39;00m \u001b[38;5;167;01mBaseException\u001b[39;00m \u001b[38;5;28;01mas\u001b[39;00m exc:\n\u001b[32m    337\u001b[39m     \u001b[38;5;66;03m# If we get an exception while streaming the response,\u001b[39;00m\n\u001b[32m    338\u001b[39m     \u001b[38;5;66;03m# we want to close the response (and possibly the connection)\u001b[39;00m\n\u001b[32m    339\u001b[39m     \u001b[38;5;66;03m# before raising that exception.\u001b[39;00m\n",
      "\u001b[36mFile \u001b[39m\u001b[32m~/miniconda3/envs/poly/lib/python3.12/site-packages/httpcore/_sync/http11.py:203\u001b[39m, in \u001b[36mHTTP11Connection._receive_response_body\u001b[39m\u001b[34m(self, request)\u001b[39m\n\u001b[32m    200\u001b[39m timeout = timeouts.get(\u001b[33m\"\u001b[39m\u001b[33mread\u001b[39m\u001b[33m\"\u001b[39m, \u001b[38;5;28;01mNone\u001b[39;00m)\n\u001b[32m    202\u001b[39m \u001b[38;5;28;01mwhile\u001b[39;00m \u001b[38;5;28;01mTrue\u001b[39;00m:\n\u001b[32m--> \u001b[39m\u001b[32m203\u001b[39m     event = \u001b[38;5;28;43mself\u001b[39;49m\u001b[43m.\u001b[49m\u001b[43m_receive_event\u001b[49m\u001b[43m(\u001b[49m\u001b[43mtimeout\u001b[49m\u001b[43m=\u001b[49m\u001b[43mtimeout\u001b[49m\u001b[43m)\u001b[49m\n\u001b[32m    204\u001b[39m     \u001b[38;5;28;01mif\u001b[39;00m \u001b[38;5;28misinstance\u001b[39m(event, h11.Data):\n\u001b[32m    205\u001b[39m         \u001b[38;5;28;01myield\u001b[39;00m \u001b[38;5;28mbytes\u001b[39m(event.data)\n",
      "\u001b[36mFile \u001b[39m\u001b[32m~/miniconda3/envs/poly/lib/python3.12/site-packages/httpcore/_sync/http11.py:217\u001b[39m, in \u001b[36mHTTP11Connection._receive_event\u001b[39m\u001b[34m(self, timeout)\u001b[39m\n\u001b[32m    214\u001b[39m     event = \u001b[38;5;28mself\u001b[39m._h11_state.next_event()\n\u001b[32m    216\u001b[39m \u001b[38;5;28;01mif\u001b[39;00m event \u001b[38;5;129;01mis\u001b[39;00m h11.NEED_DATA:\n\u001b[32m--> \u001b[39m\u001b[32m217\u001b[39m     data = \u001b[38;5;28;43mself\u001b[39;49m\u001b[43m.\u001b[49m\u001b[43m_network_stream\u001b[49m\u001b[43m.\u001b[49m\u001b[43mread\u001b[49m\u001b[43m(\u001b[49m\n\u001b[32m    218\u001b[39m \u001b[43m        \u001b[49m\u001b[38;5;28;43mself\u001b[39;49m\u001b[43m.\u001b[49m\u001b[43mREAD_NUM_BYTES\u001b[49m\u001b[43m,\u001b[49m\u001b[43m \u001b[49m\u001b[43mtimeout\u001b[49m\u001b[43m=\u001b[49m\u001b[43mtimeout\u001b[49m\n\u001b[32m    219\u001b[39m \u001b[43m    \u001b[49m\u001b[43m)\u001b[49m\n\u001b[32m    221\u001b[39m     \u001b[38;5;66;03m# If we feed this case through h11 we'll raise an exception like:\u001b[39;00m\n\u001b[32m    222\u001b[39m     \u001b[38;5;66;03m#\u001b[39;00m\n\u001b[32m    223\u001b[39m     \u001b[38;5;66;03m#     httpcore.RemoteProtocolError: can't handle event type\u001b[39;00m\n\u001b[32m   (...)\u001b[39m\u001b[32m    227\u001b[39m     \u001b[38;5;66;03m# perspective. Instead we handle this case distinctly and treat\u001b[39;00m\n\u001b[32m    228\u001b[39m     \u001b[38;5;66;03m# it as a ConnectError.\u001b[39;00m\n\u001b[32m    229\u001b[39m     \u001b[38;5;28;01mif\u001b[39;00m data == \u001b[33mb\u001b[39m\u001b[33m\"\u001b[39m\u001b[33m\"\u001b[39m \u001b[38;5;129;01mand\u001b[39;00m \u001b[38;5;28mself\u001b[39m._h11_state.their_state == h11.SEND_RESPONSE:\n",
      "\u001b[36mFile \u001b[39m\u001b[32m~/miniconda3/envs/poly/lib/python3.12/site-packages/httpcore/_backends/sync.py:128\u001b[39m, in \u001b[36mSyncStream.read\u001b[39m\u001b[34m(self, max_bytes, timeout)\u001b[39m\n\u001b[32m    126\u001b[39m \u001b[38;5;28;01mwith\u001b[39;00m map_exceptions(exc_map):\n\u001b[32m    127\u001b[39m     \u001b[38;5;28mself\u001b[39m._sock.settimeout(timeout)\n\u001b[32m--> \u001b[39m\u001b[32m128\u001b[39m     \u001b[38;5;28;01mreturn\u001b[39;00m \u001b[38;5;28;43mself\u001b[39;49m\u001b[43m.\u001b[49m\u001b[43m_sock\u001b[49m\u001b[43m.\u001b[49m\u001b[43mrecv\u001b[49m\u001b[43m(\u001b[49m\u001b[43mmax_bytes\u001b[49m\u001b[43m)\u001b[49m\n",
      "\u001b[31mKeyboardInterrupt\u001b[39m: "
     ]
    }
   ],
   "source": [
    "from llm_utils import show_string_diff\n",
    "from llm_utils import get_conversation_one_turn, show_chat\n",
    "from llm_utils.lm.chat_html import LMChatHtml as LM\n",
    "\n",
    "# Test with default font size\n",
    "lm = LM(port=8140)\n",
    "print(f\"Default font size: {lm.font_size}px\")\n",
    "# Test streaming with improved HTML mode in Jupyter\n",
    "response = lm.chat_stream(\n",
    "    prompt='Hello /think',\n",
    "    html_mode=True,\n",
    "    max_tokens=10000, \n",
    "    # show_input=True\n",
    ")"
   ]
  }
 ],
 "metadata": {
  "kernelspec": {
   "display_name": ".venv",
   "language": "python",
   "name": "python3"
  },
  "language_info": {
   "codemirror_mode": {
    "name": "ipython",
    "version": 3
   },
   "file_extension": ".py",
   "mimetype": "text/x-python",
   "name": "python",
   "nbconvert_exporter": "python",
   "pygments_lexer": "ipython3",
   "version": "3.12.11"
  }
 },
 "nbformat": 4,
 "nbformat_minor": 5
}
