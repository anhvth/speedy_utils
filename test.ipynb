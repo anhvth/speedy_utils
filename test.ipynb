{
 "cells": [
  {
   "cell_type": "code",
   "execution_count": 1,
   "id": "05ae9902",
   "metadata": {},
   "outputs": [
    {
     "name": "stdout",
     "output_type": "stream",
     "text": [
      "The autoreload extension is already loaded. To reload it, use:\n",
      "  %reload_ext autoreload\n"
     ]
    }
   ],
   "source": [
    "%load_ext autoreload\n",
    "%autoreload 2"
   ]
  },
  {
   "cell_type": "code",
   "execution_count": 2,
   "id": "7c90e0ec-e08f-4454-8a9e-785552cfeaac",
   "metadata": {},
   "outputs": [
    {
     "name": "stdout",
     "output_type": "stream",
     "text": [
      "\u001b[34m\u001b[1mDEBUG   \u001b[0m | \u001b[36mutils_print.py:265 (setup_logger)\u001b[0m - \u001b[34m\u001b[1mLogging set to DEBUG\u001b[0m\n"
     ]
    }
   ],
   "source": [
    "from speedy_utils.all import *\n",
    "\n",
    "setup_logger(\"D\")"
   ]
  },
  {
   "cell_type": "code",
   "execution_count": 33,
   "id": "3fc68f27",
   "metadata": {},
   "outputs": [
    {
     "name": "stdout",
     "output_type": "stream",
     "text": [
      "\u001b[1mINFO    \u001b[0m | \u001b[36m3873382941.py:4 (slow_func)\u001b[0m - \u001b[1mx=1\u001b[0m\n"
     ]
    },
    {
     "data": {
      "text/plain": [
       "1"
      ]
     },
     "execution_count": 33,
     "metadata": {},
     "output_type": "execute_result"
    }
   ],
   "source": [
    "\n",
    "\n",
    "\n",
    "\n",
    "\n",
    "def slow_func(x):\n",
    "    # try:\n",
    "    time.sleep(1)  # sleeps for `x` seconds\n",
    "    logger.info(f\"{x=}\")\n",
    "    return x\n",
    "    # except KeyboardInterrupt:\n",
    "    #     logger.error(\"KB Interrupted\")\n",
    "    # except Exception as e:\n",
    "    #     logger.error(f\"Interrupted: {e}\")\n",
    "        \n",
    "\n",
    "# write a decorator that raises an exception if the function is interrupted by the user\n",
    "\n",
    "\n",
    "slow_func(1)"
   ]
  },
  {
   "cell_type": "code",
   "execution_count": 82,
   "id": "d661d5ce",
   "metadata": {},
   "outputs": [
    {
     "name": "stderr",
     "output_type": "stream",
     "text": [
      "Demo:   0%|                                                      | 0/20 [00:00<?, ?it/s]"
     ]
    },
    {
     "name": "stdout",
     "output_type": "stream",
     "text": [
      "\u001b[1mINFO    \u001b[0m | \u001b[36m3873382941.py:4 (slow_func)\u001b[0m - \u001b[1mx=1\u001b[0m\n",
      "\u001b[1mINFO    \u001b[0m | \u001b[36m3873382941.py:4 (slow_func)\u001b[0m - \u001b[1mx=2\u001b[0m\n",
      "\u001b[1mINFO    \u001b[0m | \u001b[36m3873382941.py:4 (slow_func)\u001b[0m - \u001b[1mx=4\u001b[0m\n"
     ]
    },
    {
     "name": "stderr",
     "output_type": "stream",
     "text": [
      "Demo:   0%|                                           | 0/20 [00:01<?, ?it/s, SUCCESS=2]"
     ]
    },
    {
     "name": "stdout",
     "output_type": "stream",
     "text": [
      "\u001b[1mINFO    \u001b[0m | \u001b[36m3873382941.py:4 (slow_func)\u001b[0m - \u001b[1mx=8\u001b[0m\n"
     ]
    },
    {
     "name": "stderr",
     "output_type": "stream",
     "text": [
      "Demo:  10%|███▌                               | 2/20 [00:01<00:09,  1.96it/s, SUCCESS=2]"
     ]
    },
    {
     "name": "stdout",
     "output_type": "stream",
     "text": [
      "\u001b[1mINFO    \u001b[0m | \u001b[36m3873382941.py:4 (slow_func)\u001b[0m - \u001b[1mx=7\u001b[0m\n",
      "\u001b[1mINFO    \u001b[0m | \u001b[36m3873382941.py:4 (slow_func)\u001b[0m - \u001b[1mx=5\u001b[0m\n",
      "\u001b[1mINFO    \u001b[0m | \u001b[36m3873382941.py:4 (slow_func)\u001b[0m - \u001b[1mx=3\u001b[0m\n",
      "\u001b[1mINFO    \u001b[0m | \u001b[36m3873382941.py:4 (slow_func)\u001b[0m - \u001b[1mx=0\u001b[0m\n",
      "\u001b[1mINFO    \u001b[0m | \u001b[36m3873382941.py:4 (slow_func)\u001b[0m - \u001b[1mx=9\u001b[0m\n",
      "\u001b[1mINFO    \u001b[0m | \u001b[36m3873382941.py:4 (slow_func)\u001b[0m - \u001b[1mx=6\u001b[0m\n"
     ]
    },
    {
     "name": "stderr",
     "output_type": "stream",
     "text": [
      "                                                                                        "
     ]
    },
    {
     "name": "stdout",
     "output_type": "stream",
     "text": [
      "\u001b[31m\u001b[1mERROR   \u001b[0m | \u001b[36mthread.py:302 (multi_thread)\u001b[0m - \u001b[31m\u001b[1m[MAIN PROCESS] Keyboard interrupt detected stop `slow_func` execution.\u001b[0m\n"
     ]
    },
    {
     "name": "stderr",
     "output_type": "stream",
     "text": [
      "\r"
     ]
    }
   ],
   "source": [
    "setup_logger(\"i\")\n",
    "\n",
    "results = None\n",
    "results = multi_thread(\n",
    "    func=slow_func,\n",
    "    orig_inputs=range(20),\n",
    "    workers=10,\n",
    "    desc=\"Demo\",\n",
    "    verbose=False\n",
    ")"
   ]
  },
  {
   "cell_type": "code",
   "execution_count": null,
   "id": "54a85f4e",
   "metadata": {},
   "outputs": [],
   "source": []
  }
 ],
 "metadata": {
  "kernelspec": {
   "display_name": "base",
   "language": "python",
   "name": "python3"
  },
  "language_info": {
   "codemirror_mode": {
    "name": "ipython",
    "version": 3
   },
   "file_extension": ".py",
   "mimetype": "text/x-python",
   "name": "python",
   "nbconvert_exporter": "python",
   "pygments_lexer": "ipython3",
   "version": "3.12.2"
  }
 },
 "nbformat": 4,
 "nbformat_minor": 5
}
