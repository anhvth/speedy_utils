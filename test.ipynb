{
 "cells": [
  {
   "cell_type": "code",
   "execution_count": 1,
   "id": "05ae9902",
   "metadata": {},
   "outputs": [
    {
     "name": "stdout",
     "output_type": "stream",
     "text": [
      "The autoreload extension is already loaded. To reload it, use:\n",
      "  %reload_ext autoreload\n"
     ]
    }
   ],
   "source": [
    "%load_ext autoreload\n",
    "%autoreload 2"
   ]
  },
  {
   "cell_type": "code",
   "execution_count": 5,
   "id": "4266fab7",
   "metadata": {},
   "outputs": [
    {
     "name": "stdout",
     "output_type": "stream",
     "text": [
      "Memory usage: 0.35606528 GB\n"
     ]
    }
   ],
   "source": [
    "def compute_program_memory():\n",
    "    import os\n",
    "    import psutil\n",
    "    process = psutil.Process(os.getpid())\n",
    "    return process.memory_info().rss / 1e9\n",
    "def print_memory():\n",
    "    print(f\"Memory usage: {compute_program_memory()} GB\")\n",
    "print_memory()"
   ]
  },
  {
   "cell_type": "code",
   "execution_count": 3,
   "id": "7c90e0ec-e08f-4454-8a9e-785552cfeaac",
   "metadata": {},
   "outputs": [
    {
     "name": "stdout",
     "output_type": "stream",
     "text": [
      "\u001b[34m\u001b[1mDEBUG   \u001b[0m | \u001b[36mutils_print.py:301 (setup_logger)\u001b[0m - \u001b[34m\u001b[1mLogging set to DEBUG\u001b[0m\n"
     ]
    }
   ],
   "source": [
    "from speedy_utils.all import *\n",
    "from fastcore.all import *\n",
    "\n",
    "setup_logger(\"D\")"
   ]
  },
  {
   "cell_type": "code",
   "execution_count": 14,
   "id": "743c7085",
   "metadata": {},
   "outputs": [
    {
     "name": "stdout",
     "output_type": "stream",
     "text": [
      "[1, 2, 3, 4, 5, 6, 7, 8, 9, 10]\n"
     ]
    }
   ],
   "source": [
    "import cloudpickle\n",
    "from multiprocessing import Pool\n",
    "import functools\n",
    "\n",
    "# A nested function we want to parallelize\n",
    "def w():\n",
    "    def f(x):\n",
    "        return x + 1\n",
    "    inputs = range(100)\n",
    "    return f, inputs\n",
    "\n",
    "def _process_task(task):\n",
    "    # This function is just a pass-through for demonstration\n",
    "    func, x = task\n",
    "    return func(x)\n",
    "\n",
    "if __name__ == \"__main__\":\n",
    "    # Grab our function and inputs\n",
    "    func, inputs = w()\n",
    "\n",
    "    # Serialize the function using cloudpickle\n",
    "    pickled_f = cloudpickle.dumps(func)\n",
    "    \n",
    "    # We'll wrap the deserialization logic in a small wrapper\n",
    "    def wrapper(x):\n",
    "        f_unpickled = cloudpickle.loads(pickled_f)\n",
    "        return f_unpickled(x)\n",
    "\n",
    "    # Now we can map over the inputs with a standard multiprocessing.Pool,\n",
    "    # because each call to `wrapper(x)` re-unpickles `func` internally.\n",
    "    with Pool(4) as p:\n",
    "        results = p.map(wrapper, inputs)\n",
    "\n",
    "    print(results[:10])  # [1, 2, 3, 4, 5, 6, 7, 8, 9, 10]\n"
   ]
  },
  {
   "cell_type": "code",
   "execution_count": null,
   "id": "faf10ff2",
   "metadata": {},
   "outputs": [],
   "source": []
  },
  {
   "cell_type": "code",
   "execution_count": 9,
   "id": "33225bd0",
   "metadata": {},
   "outputs": [
    {
     "name": "stdout",
     "output_type": "stream",
     "text": [
      "Memory usage: 0.21159936 GB\n"
     ]
    }
   ],
   "source": [
    "print_memory()"
   ]
  },
  {
   "cell_type": "code",
   "execution_count": 8,
   "id": "a0cec0c5-a6a6-4c57-a762-07726678a88d",
   "metadata": {},
   "outputs": [
    {
     "name": "stdout",
     "output_type": "stream",
     "text": [
      "[5001, 10001, 1501, 2001]\n",
      "CPU times: user 6.17 ms, sys: 36.3 ms, total: 42.4 ms\n",
      "Wall time: 54.5 ms\n"
     ]
    }
   ],
   "source": [
    "%%time\n",
    "from fastcore.parallel import parallel\n",
    "\n",
    "# Test with multiple inputs\n",
    "input_values = [5_000, 100_00, 15_00, 20_00]  # Finding different prime numbers\n",
    "results = parallel(f, input_values, n_workers=4)  # Use 4 processes\n",
    "print(results)\n"
   ]
  },
  {
   "cell_type": "code",
   "execution_count": 17,
   "id": "f7a3b54a-6ce2-4f3f-a81f-631e1e14a494",
   "metadata": {},
   "outputs": [
    {
     "name": "stdout",
     "output_type": "stream",
     "text": [
      "[48611, 104729, 12553, 17389]\n",
      "CPU times: user 4.87 s, sys: 12 ms, total: 4.88 s\n",
      "Wall time: 4.88 s\n"
     ]
    }
   ],
   "source": [
    "%%time\n",
    "results = parallel(f, input_values, n_workers=4, threadpool=True)\n",
    "print(results)\n",
    "\n"
   ]
  },
  {
   "cell_type": "code",
   "execution_count": null,
   "id": "63d5c74b-283c-4dbe-a568-3d803639ecc8",
   "metadata": {},
   "outputs": [],
   "source": []
  }
 ],
 "metadata": {
  "kernelspec": {
   "display_name": "lclzt",
   "language": "python",
   "name": "python3"
  },
  "language_info": {
   "codemirror_mode": {
    "name": "ipython",
    "version": 3
   },
   "file_extension": ".py",
   "mimetype": "text/x-python",
   "name": "python",
   "nbconvert_exporter": "python",
   "pygments_lexer": "ipython3",
   "version": "3.12.9"
  }
 },
 "nbformat": 4,
 "nbformat_minor": 5
}
