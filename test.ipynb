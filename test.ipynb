{
 "cells": [
  {
   "cell_type": "code",
   "execution_count": 1,
   "id": "05ae9902",
   "metadata": {},
   "outputs": [
    {
     "name": "stdout",
     "output_type": "stream",
     "text": [
      "The autoreload extension is already loaded. To reload it, use:\n",
      "  %reload_ext autoreload\n"
     ]
    }
   ],
   "source": [
    "%load_ext autoreload\n",
    "%autoreload 2"
   ]
  },
  {
   "cell_type": "code",
   "execution_count": 2,
   "id": "7c90e0ec-e08f-4454-8a9e-785552cfeaac",
   "metadata": {},
   "outputs": [
    {
     "name": "stdout",
     "output_type": "stream",
     "text": [
      "\u001b[34m\u001b[1mDEBUG   \u001b[0m | \u001b[36mutils_print.py:301 (setup_logger)\u001b[0m - \u001b[34m\u001b[1mLogging set to DEBUG\u001b[0m\n"
     ]
    }
   ],
   "source": [
    "from speedy_utils.all import *\n",
    "from fastcore.all import *\n",
    "\n",
    "setup_logger(\"D\")"
   ]
  },
  {
   "cell_type": "code",
   "execution_count": null,
   "id": "61658c4a",
   "metadata": {},
   "outputs": [],
   "source": []
  },
  {
   "cell_type": "code",
   "execution_count": null,
   "id": "8ce24460",
   "metadata": {},
   "outputs": [],
   "source": []
  },
  {
   "cell_type": "code",
   "execution_count": 35,
   "id": "a993222e",
   "metadata": {},
   "outputs": [],
   "source": [
    "class A:\n",
    "    def f(self, x, y=2):\n",
    "        return x + 1"
   ]
  },
  {
   "cell_type": "code",
   "execution_count": null,
   "id": "2b84089b",
   "metadata": {},
   "outputs": [
    {
     "name": "stdout",
     "output_type": "stream",
     "text": [
      "x POSITIONAL_OR_KEYWORD\n",
      "y POSITIONAL_OR_KEYWORD\n"
     ]
    }
   ],
   "source": [
    "a = A()\n",
    "for param in sig.parameters.values():\n",
    "    print(param.name, param.kind)"
   ]
  },
  {
   "cell_type": "code",
   "execution_count": null,
   "id": "f6af1f11",
   "metadata": {},
   "outputs": [
    {
     "ename": "ValueError",
     "evalue": "Function should have only 1 argument but 2 arguments found",
     "output_type": "error",
     "traceback": [
      "\u001b[31m---------------------------------------------------------------------------\u001b[39m",
      "\u001b[31mValueError\u001b[39m                                Traceback (most recent call last)",
      "\u001b[36mCell\u001b[39m\u001b[36m \u001b[39m\u001b[32mIn[30]\u001b[39m\u001b[32m, line 2\u001b[39m\n\u001b[32m      1\u001b[39m a = A()\n\u001b[32m----> \u001b[39m\u001b[32m2\u001b[39m \u001b[43mmulti_process\u001b[49m\u001b[43m(\u001b[49m\u001b[43ma\u001b[49m\u001b[43m.\u001b[49m\u001b[43mf\u001b[49m\u001b[43m,\u001b[49m\u001b[43m \u001b[49m\u001b[43m[\u001b[49m\u001b[32;43m1\u001b[39;49m\u001b[43m,\u001b[49m\u001b[32;43m2\u001b[39;49m\u001b[43m,\u001b[49m\u001b[32;43m3\u001b[39;49m\u001b[43m]\u001b[49m\u001b[43m,\u001b[49m\u001b[43m \u001b[49m\u001b[43my\u001b[49m\u001b[43m=\u001b[49m\u001b[32;43m2\u001b[39;49m\u001b[43m)\u001b[49m\n",
      "\u001b[36mFile \u001b[39m\u001b[32m<string>:5\u001b[39m, in \u001b[36mmulti_process\u001b[39m\u001b[34m(func, items, workers, progress, **kwargs)\u001b[39m\n",
      "\u001b[31mValueError\u001b[39m: Function should have only 1 argument but 2 arguments found"
     ]
    }
   ],
   "source": [
    "\n",
    "multi_process(a.f, [1,2,3], y=2)"
   ]
  },
  {
   "cell_type": "code",
   "execution_count": 31,
   "id": "9c15ead4",
   "metadata": {},
   "outputs": [],
   "source": [
    "sig = inspect.signature(a.f)"
   ]
  },
  {
   "cell_type": "code",
   "execution_count": null,
   "id": "2d5d65a8",
   "metadata": {},
   "outputs": [
    {
     "name": "stdout",
     "output_type": "stream",
     "text": [
      "x POSITIONAL_OR_KEYWORD\n",
      "y POSITIONAL_OR_KEYWORD\n"
     ]
    }
   ],
   "source": []
  },
  {
   "cell_type": "code",
   "execution_count": null,
   "id": "0411ff66",
   "metadata": {},
   "outputs": [],
   "source": []
  }
 ],
 "metadata": {
  "kernelspec": {
   "display_name": "lclzt",
   "language": "python",
   "name": "python3"
  },
  "language_info": {
   "codemirror_mode": {
    "name": "ipython",
    "version": 3
   },
   "file_extension": ".py",
   "mimetype": "text/x-python",
   "name": "python",
   "nbconvert_exporter": "python",
   "pygments_lexer": "ipython3",
   "version": "3.12.0"
  }
 },
 "nbformat": 4,
 "nbformat_minor": 5
}
