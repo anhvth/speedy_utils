{
 "cells": [
  {
   "cell_type": "code",
   "execution_count": 1,
   "id": "147c23ad",
   "metadata": {},
   "outputs": [],
   "source": [
    "%%capture\n",
    "%load_ext autoreload\n",
    "%autoreload 2"
   ]
  },
  {
   "cell_type": "code",
   "execution_count": 4,
   "id": "d3e40020",
   "metadata": {},
   "outputs": [
    {
     "data": {
      "text/html": [
       "\n",
       "    <html>\n",
       "    <head>\n",
       "        <style>\n",
       "            pre {\n",
       "                white-space: pre-wrap;\n",
       "            }\n",
       "        </style>\n",
       "    </head>\n",
       "    <body>\n",
       "        <div style=\"background-color: #ffaaaa; color: #222222; padding: 10px; margin-bottom: 10px;\"><strong>System:</strong><br><pre id=\"system-0\">You are a helpful assistant.</pre></div><div style=\"background-color: #f8c57e; color: #222222; padding: 10px; margin-bottom: 10px;\"><strong>User:</strong><br><pre id=\"user-1\">What is the capital of France?</pre></div><div style=\"background-color: #9dfebd; color: #222222; padding: 10px; margin-bottom: 10px;\"><strong>Assistant:</strong><br><pre id=\"assistant-2\">The capital of France is Paris.</pre></div>\n",
       "        <script>\n",
       "            function copyContent(elementId) {\n",
       "                var element = document.getElementById(elementId);\n",
       "                var text = element.innerText;\n",
       "                navigator.clipboard.writeText(text)\n",
       "                    .then(function() {\n",
       "                        alert(\"Content copied to clipboard!\");\n",
       "                    })\n",
       "                    .catch(function(error) {\n",
       "                        console.error(\"Error copying content: \", error);\n",
       "                    });\n",
       "            }\n",
       "        </script>\n",
       "    </body>\n",
       "    </html>\n",
       "    "
      ],
      "text/plain": [
       "<IPython.core.display.HTML object>"
      ]
     },
     "metadata": {},
     "output_type": "display_data"
    }
   ],
   "source": [
    "from llm_utils import show_string_diff\n",
    "\n",
    "from llm_utils import get_conversation_one_turn, show_chat\n",
    "\n",
    "\n",
    "messages = get_conversation_one_turn(\n",
    "    \"You are a helpful assistant.\",\n",
    "    \"What is the capital of France?\",\n",
    "    \"The capital of France is Paris.\",\n",
    ")\n",
    "show_chat(messages)"
   ]
  },
  {
   "cell_type": "code",
   "execution_count": 5,
   "id": "5ba21ccd",
   "metadata": {},
   "outputs": [
    {
     "data": {
      "text/html": [
       "AB<span style=\"background-color:#ffd6d6; color:#b20000;\">C</span>D<span style=\"background-color:#d6ffd6; color:#006600;\">D</span>"
      ],
      "text/plain": [
       "<IPython.core.display.HTML object>"
      ]
     },
     "metadata": {},
     "output_type": "display_data"
    }
   ],
   "source": [
    "# Test with the ABCD vs ABDD example\n",
    "example_1 = \"ABCD\"\n",
    "example_2 = \"ABDD\"\n",
    "show_string_diff(example_1, example_2)"
   ]
  },
  {
   "cell_type": "code",
   "execution_count": null,
   "id": "b41293c8",
   "metadata": {},
   "outputs": [],
   "source": []
  },
  {
   "cell_type": "code",
   "execution_count": null,
   "id": "e365f583",
   "metadata": {},
   "outputs": [],
   "source": []
  }
 ],
 "metadata": {
  "kernelspec": {
   "display_name": "base",
   "language": "python",
   "name": "python3"
  },
  "language_info": {
   "codemirror_mode": {
    "name": "ipython",
    "version": 3
   },
   "file_extension": ".py",
   "mimetype": "text/x-python",
   "name": "python",
   "nbconvert_exporter": "python",
   "pygments_lexer": "ipython3",
   "version": "3.12.9"
  }
 },
 "nbformat": 4,
 "nbformat_minor": 5
}
