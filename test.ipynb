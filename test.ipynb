{
 "cells": [
  {
   "cell_type": "code",
   "execution_count": 1,
   "id": "b814bffc",
   "metadata": {},
   "outputs": [
    {
     "name": "stdout",
     "output_type": "stream",
     "text": [
      "\u001b[34m\u001b[1mDEBUG   \u001b[0m | \u001b[36mutils_print.py:324 (setup_logger)\u001b[0m - \u001b[34m\u001b[1mLogging set to DEBUG\u001b[0m\n"
     ]
    }
   ],
   "source": [
    "# Import necessary libraries\n",
    "from speedy_utils.all import *\n",
    "import time\n",
    "import random"
   ]
  },
  {
   "cell_type": "code",
   "execution_count": 3,
   "id": "634188f2",
   "metadata": {},
   "outputs": [
    {
     "name": "stdout",
     "output_type": "stream",
     "text": [
      "[multi_thread] 768 items in 0.0620s\n",
      "[multi_thread] 768 items in 0.0806s\n",
      "[multi_thread] 768 items in 0.3746s\n",
      "[multi_thread] 768 items in 0.5644s\n",
      "scenario       items    multi_thread (s)    single_thread (s)    speed‑up×\n",
      "-----------  -------  ------------------  -------------------  -----------\n",
      "small‑light     1000              0.0628               0.1024         1.63\n",
      "large‑light   100000              0.0822              10.2715       124.94\n",
      "small‑heavy     1000              0.3755               0.3450         0.92\n",
      "large‑heavy    10000              0.5660               3.4292         6.06\n"
     ]
    }
   ],
   "source": [
    "import random, time\n",
    "from speedy_utils.multi_worker.thread import multi_thread   # ← your updated helper\n",
    "\n",
    "# Task definitions ----------------------------------------------------\n",
    "def light_task(x: int) -> int:\n",
    "    \"\"\"Simulate a network/file read that idles for ~0‑100 µs.\"\"\"\n",
    "    time.sleep(random.random() * 1e-4)\n",
    "    return x\n",
    "\n",
    "def heavy_task(x: int) -> int:\n",
    "    \"\"\"Pure‑Python CPU work that keeps the GIL for ~0.35 ms.\"\"\"\n",
    "    acc = 0\n",
    "    for i in range(5_000):\n",
    "        acc += (i * i) % 97\n",
    "    return acc\n",
    "\n",
    "# Test matrix ---------------------------------------------------------\n",
    "scenarios = [\n",
    "    (\"small‑light\",  1_000,  light_task),\n",
    "    (\"large‑light\", 100_000, light_task),\n",
    "    (\"small‑heavy\",  1_000,  heavy_task),\n",
    "    (\"large‑heavy\", 10_000,  heavy_task),\n",
    "]\n",
    "\n",
    "results = []\n",
    "for name, n_items, fn in scenarios:\n",
    "    data = list(range(n_items))\n",
    "\n",
    "    t0 = time.time()\n",
    "    multi_thread(fn, data, progress=False)          # threaded run\n",
    "    mt = time.time() - t0\n",
    "\n",
    "    t0 = time.time()\n",
    "    list(map(fn, data))                             # single‑thread run\n",
    "    st = time.time() - t0\n",
    "\n",
    "    results.append((name, n_items, mt, st, st / mt))\n",
    "\n",
    "# Report --------------------------------------------------------------\n",
    "try:\n",
    "    from tabulate import tabulate\n",
    "    header = [\"scenario\", \"items\", \"multi_thread (s)\",\n",
    "                \"single_thread (s)\", \"speed‑up×\"]\n",
    "    print(tabulate(results, headers=header,\n",
    "                    floatfmt=(\"\",\"\", \".4f\", \".4f\", \".2f\")))\n",
    "except ImportError:      # fallback: plain text\n",
    "    print(\"\\n\".join(\n",
    "        f\"{name:12} {n:7d}  MT={mt:.4f}s  ST={st:.4f}s  \"\n",
    "        f\"speed‑up×={st/mt:.2f}\"\n",
    "        for name, n, mt, st, _ in results\n",
    "    ))\n"
   ]
  },
  {
   "cell_type": "code",
   "execution_count": null,
   "id": "091de159",
   "metadata": {},
   "outputs": [],
   "source": []
  }
 ],
 "metadata": {
  "kernelspec": {
   "display_name": "Python 3 (ipykernel)",
   "language": "python",
   "name": "python3"
  },
  "language_info": {
   "codemirror_mode": {
    "name": "ipython",
    "version": 3
   },
   "file_extension": ".py",
   "mimetype": "text/x-python",
   "name": "python",
   "nbconvert_exporter": "python",
   "pygments_lexer": "ipython3",
   "version": "3.12.9"
  }
 },
 "nbformat": 4,
 "nbformat_minor": 5
}
