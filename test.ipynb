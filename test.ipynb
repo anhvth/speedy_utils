{
 "cells": [
  {
   "cell_type": "code",
   "execution_count": 1,
   "id": "7c90e0ec-e08f-4454-8a9e-785552cfeaac",
   "metadata": {},
   "outputs": [],
   "source": [
    "from speedy_utils import *"
   ]
  },
  {
   "cell_type": "code",
   "execution_count": 5,
   "id": "a73c9862-e44b-45ef-ae82-6e424a744ae2",
   "metadata": {},
   "outputs": [],
   "source": [
    "import time\n",
    "\n",
    "\n",
    "def f(s):\n",
    "    # sleep for s seconds\n",
    "    time.sleep(s)\n",
    "    print(s)\n",
    "    return s"
   ]
  },
  {
   "cell_type": "code",
   "execution_count": 6,
   "id": "2325f6e1",
   "metadata": {},
   "outputs": [
    {
     "name": "stdout",
     "output_type": "stream",
     "text": [
      "1\n",
      "2\n"
     ]
    },
    {
     "name": "stderr",
     "output_type": "stream",
     "text": [
      "\u001b[32m2025-01-07 17:07:28.071\u001b[0m | \u001b[33m\u001b[1mWARNING \u001b[0m | \u001b[36mspeedy_utils.multi_worker.thread\u001b[0m:\u001b[36mmulti_thread\u001b[0m:\u001b[36m129\u001b[0m - \u001b[33m\u001b[1mExecution manually interrupted\u001b[0m\n"
     ]
    },
    {
     "name": "stdout",
     "output_type": "stream",
     "text": [
      "3\n",
      "4\n",
      "5\n"
     ]
    }
   ],
   "source": [
    "inputs = [1, 2, 3, 4, 5]\n",
    "outputs = multi_thread(f, inputs)"
   ]
  },
  {
   "cell_type": "code",
   "execution_count": 4,
   "id": "ca603acf",
   "metadata": {},
   "outputs": [
    {
     "data": {
      "text/plain": [
       "[1, 2, 3, None, None]"
      ]
     },
     "execution_count": 4,
     "metadata": {},
     "output_type": "execute_result"
    }
   ],
   "source": [
    "outputs"
   ]
  },
  {
   "cell_type": "code",
   "execution_count": null,
   "id": "e8d680a6",
   "metadata": {},
   "outputs": [],
   "source": []
  }
 ],
 "metadata": {
  "kernelspec": {
   "display_name": "Python 3 (ipykernel)",
   "language": "python",
   "name": "python3"
  },
  "language_info": {
   "codemirror_mode": {
    "name": "ipython",
    "version": 3
   },
   "file_extension": ".py",
   "mimetype": "text/x-python",
   "name": "python",
   "nbconvert_exporter": "python",
   "pygments_lexer": "ipython3",
   "version": "3.10.15"
  }
 },
 "nbformat": 4,
 "nbformat_minor": 5
}
