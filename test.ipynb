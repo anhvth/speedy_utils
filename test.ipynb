{
 "cells": [
  {
   "cell_type": "code",
   "execution_count": 1,
   "id": "05ae9902",
   "metadata": {},
   "outputs": [
    {
     "name": "stdout",
     "output_type": "stream",
     "text": [
      "The autoreload extension is already loaded. To reload it, use:\n",
      "  %reload_ext autoreload\n"
     ]
    }
   ],
   "source": [
    "%load_ext autoreload\n",
    "%autoreload 2"
   ]
  },
  {
   "cell_type": "code",
   "execution_count": null,
   "id": "7c90e0ec-e08f-4454-8a9e-785552cfeaac",
   "metadata": {},
   "outputs": [
    {
     "name": "stdout",
     "output_type": "stream",
     "text": [
      "\u001b[34m\u001b[1mDEBUG   \u001b[0m | \u001b[36mutils_print.py:275 (setup_logger)\u001b[0m - \u001b[34m\u001b[1mLogging set to DEBUG\u001b[0m\n"
     ]
    }
   ],
   "source": [
    "from speedy_utils.all import *\n",
    "\n",
    "setup_logger(\"D\")"
   ]
  },
  {
   "cell_type": "markdown",
   "id": "b1ab33ef",
   "metadata": {},
   "source": []
  },
  {
   "cell_type": "code",
   "execution_count": null,
   "id": "a73c9862-e44b-45ef-ae82-6e424a744ae2",
   "metadata": {},
   "outputs": [
    {
     "name": "stdout",
     "output_type": "stream",
     "text": [
      "\u001b[34m\u001b[1mDEBUG   \u001b[0m | \u001b[36mutils_cache.py:188 (memoize)\u001b[0m - \u001b[34m\u001b[1mcache_dir: .cache/test, cache_type: memory\u001b[0m\n"
     ]
    }
   ],
   "source": [
    "import time\n",
    "\n",
    "\n",
    "@memoize(cache_dir=\".cache/test\", cache_type=\"memory\")\n",
    "def f(s):\n",
    "    # sleep for s seconds\n",
    "    time.sleep(s)\n",
    "    print(s)\n",
    "    return s"
   ]
  },
  {
   "cell_type": "code",
   "execution_count": 4,
   "id": "2325f6e1",
   "metadata": {},
   "outputs": [
    {
     "name": "stdout",
     "output_type": "stream",
     "text": [
      "1\n",
      "2\n"
     ]
    }
   ],
   "source": [
    "inputs = [1, 2]\n",
    "outputs = multi_thread(f, inputs)"
   ]
  },
  {
   "cell_type": "code",
   "execution_count": 5,
   "id": "ca603acf",
   "metadata": {},
   "outputs": [],
   "source": [
    "class myclass:\n",
    "\n",
    "    @memoize(cache_dir=\".cache/test\", cache_type=\"disk\")\n",
    "    def run(self, x, y):\n",
    "        return x + y\n",
    "\n",
    "\n",
    "inputs = [(1, 2), (3, 4), (5, 6)]\n",
    "obj = myclass()\n",
    "outputs = [obj.run(*i) for i in inputs]"
   ]
  },
  {
   "cell_type": "code",
   "execution_count": null,
   "id": "3fc68f27",
   "metadata": {},
   "outputs": [
    {
     "name": "stdout",
     "output_type": "stream",
     "text": [
      "\u001b[34m\u001b[1mDEBUG   \u001b[0m | \u001b[36mutils_print.py:275 (setup_logger)\u001b[0m - \u001b[34m\u001b[1mLogging set to DEBUG\u001b[0m\n",
      "\u001b[34m\u001b[1mDEBUG   \u001b[0m | \u001b[36mthread.py:224 (__execute_tasks_in_parallel)\u001b[0m - \u001b[34m\u001b[1mSetting per_run_timeout to 0.1\u001b[0m\n"
     ]
    },
    {
     "name": "stderr",
     "output_type": "stream",
     "text": [
      "test_func:   0%|                                                                                 | 0/10 [00:00<?, ?it/s]"
     ]
    },
    {
     "name": "stdout",
     "output_type": "stream",
     "text": [
      "\u001b[31m\u001b[1mERROR   \u001b[0m | \u001b[36mthread.py:270 (__execute_tasks_in_parallel)\u001b[0m - \u001b[31m\u001b[1mFirst error of type ValueError: Traceback (most recent call last):\n",
      "  File \"/Users/anhvth/gitprojects/speedy_utils/speedy_utils/multi_worker/thread.py\", line 84, in _process_single_task\n",
      "    ret = func(inp) if not isinstance(inp, dict) else func(**inp)\n",
      "  File \"/Users/anhvth/gitprojects/speedy_utils/speedy_utils/multi_worker/thread.py\", line 48, in wrapper\n",
      "    signal.signal(signal.SIGALRM, _handle_timeout)\n",
      "  File \"/Users/anhvth/miniconda3/envs/cs-chatbot/lib/python3.10/signal.py\", line 56, in signal\n",
      "    handler = _signal.signal(_enum_to_int(signalnum), _enum_to_int(handler))\n",
      "ValueError: signal only works in main thread of the main interpreter\n",
      "\u001b[0m\n",
      "\u001b[31m\u001b[1mERROR   \u001b[0m | \u001b[36mthread.py:270 (__execute_tasks_in_parallel)\u001b[0m - \u001b[31m\u001b[1mFirst error of type ValueError: Traceback (most recent call last):\n",
      "  File \"/Users/anhvth/gitprojects/speedy_utils/speedy_utils/multi_worker/thread.py\", line 84, in _process_single_task\n",
      "    ret = func(inp) if not isinstance(inp, dict) else func(**inp)\n",
      "  File \"/Users/anhvth/gitprojects/speedy_utils/speedy_utils/multi_worker/thread.py\", line 48, in wrapper\n",
      "    signal.signal(signal.SIGALRM, _handle_timeout)\n",
      "  File \"/Users/anhvth/miniconda3/envs/cs-chatbot/lib/python3.10/signal.py\", line 56, in signal\n",
      "    handler = _signal.signal(_enum_to_int(signalnum), _enum_to_int(handler))\n",
      "ValueError: signal only works in main thread of the main interpreter\n",
      "\u001b[0m\n",
      "\u001b[31m\u001b[1mERROR   \u001b[0m | \u001b[36mthread.py:270 (__execute_tasks_in_parallel)\u001b[0m - \u001b[31m\u001b[1mFirst error of type ValueError: Traceback (most recent call last):\n",
      "  File \"/Users/anhvth/gitprojects/speedy_utils/speedy_utils/multi_worker/thread.py\", line 84, in _process_single_task\n",
      "    ret = func(inp) if not isinstance(inp, dict) else func(**inp)\n",
      "  File \"/Users/anhvth/gitprojects/speedy_utils/speedy_utils/multi_worker/thread.py\", line 48, in wrapper\n",
      "    signal.signal(signal.SIGALRM, _handle_timeout)\n",
      "  File \"/Users/anhvth/miniconda3/envs/cs-chatbot/lib/python3.10/signal.py\", line 56, in signal\n",
      "    handler = _signal.signal(_enum_to_int(signalnum), _enum_to_int(handler))\n",
      "ValueError: signal only works in main thread of the main interpreter\n",
      "\u001b[0m\n",
      "\u001b[31m\u001b[1mERROR   \u001b[0m | \u001b[36mthread.py:270 (__execute_tasks_in_parallel)\u001b[0m - \u001b[31m\u001b[1mFirst error of type ValueError: Traceback (most recent call last):\n",
      "  File \"/Users/anhvth/gitprojects/speedy_utils/speedy_utils/multi_worker/thread.py\", line 84, in _process_single_task\n",
      "    ret = func(inp) if not isinstance(inp, dict) else func(**inp)\n",
      "  File \"/Users/anhvth/gitprojects/speedy_utils/speedy_utils/multi_worker/thread.py\", line 48, in wrapper\n",
      "    signal.signal(signal.SIGALRM, _handle_timeout)\n",
      "  File \"/Users/anhvth/miniconda3/envs/cs-chatbot/lib/python3.10/signal.py\", line 56, in signal\n",
      "    handler = _signal.signal(_enum_to_int(signalnum), _enum_to_int(handler))\n",
      "ValueError: signal only works in main thread of the main interpreter\n",
      "\u001b[0m\n",
      "\u001b[31m\u001b[1mERROR   \u001b[0m | \u001b[36mthread.py:270 (__execute_tasks_in_parallel)\u001b[0m - \u001b[31m\u001b[1mFirst error of type ValueError: Traceback (most recent call last):\n",
      "  File \"/Users/anhvth/gitprojects/speedy_utils/speedy_utils/multi_worker/thread.py\", line 84, in _process_single_task\n",
      "    ret = func(inp) if not isinstance(inp, dict) else func(**inp)\n",
      "  File \"/Users/anhvth/gitprojects/speedy_utils/speedy_utils/multi_worker/thread.py\", line 48, in wrapper\n",
      "    signal.signal(signal.SIGALRM, _handle_timeout)\n",
      "  File \"/Users/anhvth/miniconda3/envs/cs-chatbot/lib/python3.10/signal.py\", line 56, in signal\n",
      "    handler = _signal.signal(_enum_to_int(signalnum), _enum_to_int(handler))\n",
      "ValueError: signal only works in main thread of the main interpreter\n",
      "\u001b[0m\n",
      "\u001b[31m\u001b[1mERROR   \u001b[0m | \u001b[36mthread.py:270 (__execute_tasks_in_parallel)\u001b[0m - \u001b[31m\u001b[1mFirst error of type ValueError: Traceback (most recent call last):\n",
      "  File \"/Users/anhvth/gitprojects/speedy_utils/speedy_utils/multi_worker/thread.py\", line 84, in _process_single_task\n",
      "    ret = func(inp) if not isinstance(inp, dict) else func(**inp)\n",
      "  File \"/Users/anhvth/gitprojects/speedy_utils/speedy_utils/multi_worker/thread.py\", line 48, in wrapper\n",
      "    signal.signal(signal.SIGALRM, _handle_timeout)\n",
      "  File \"/Users/anhvth/miniconda3/envs/cs-chatbot/lib/python3.10/signal.py\", line 56, in signal\n",
      "    handler = _signal.signal(_enum_to_int(signalnum), _enum_to_int(handler))\n",
      "ValueError: signal only works in main thread of the main interpreter\n",
      "\u001b[0m\n",
      "\u001b[31m\u001b[1mERROR   \u001b[0m | \u001b[36mthread.py:270 (__execute_tasks_in_parallel)\u001b[0m - \u001b[31m\u001b[1mFirst error of type ValueError: Traceback (most recent call last):\n",
      "  File \"/Users/anhvth/gitprojects/speedy_utils/speedy_utils/multi_worker/thread.py\", line 84, in _process_single_task\n",
      "    ret = func(inp) if not isinstance(inp, dict) else func(**inp)\n",
      "  File \"/Users/anhvth/gitprojects/speedy_utils/speedy_utils/multi_worker/thread.py\", line 48, in wrapper\n",
      "    signal.signal(signal.SIGALRM, _handle_timeout)\n",
      "  File \"/Users/anhvth/miniconda3/envs/cs-chatbot/lib/python3.10/signal.py\", line 56, in signal\n",
      "    handler = _signal.signal(_enum_to_int(signalnum), _enum_to_int(handler))\n",
      "ValueError: signal only works in main thread of the main interpreter\n",
      "\u001b[0m\n"
     ]
    },
    {
     "name": "stdout",
     "output_type": "stream",
     "text": [
      "\u001b[31m\u001b[1mERROR   \u001b[0m | \u001b[36mthread.py:270 (__execute_tasks_in_parallel)\u001b[0m - \u001b[31m\u001b[1mFirst error of type ValueError: Traceback (most recent call last):\n",
      "  File \"/Users/anhvth/gitprojects/speedy_utils/speedy_utils/multi_worker/thread.py\", line 84, in _process_single_task\n",
      "    ret = func(inp) if not isinstance(inp, dict) else func(**inp)\n",
      "  File \"/Users/anhvth/gitprojects/speedy_utils/speedy_utils/multi_worker/thread.py\", line 48, in wrapper\n",
      "    signal.signal(signal.SIGALRM, _handle_timeout)\n",
      "  File \"/Users/anhvth/miniconda3/envs/cs-chatbot/lib/python3.10/signal.py\", line 56, in signal\n",
      "    handler = _signal.signal(_enum_to_int(signalnum), _enum_to_int(handler))\n",
      "ValueError: signal only works in main thread of the main interpreter\n",
      "\u001b[0m\n",
      "\u001b[31m\u001b[1mERROR   \u001b[0m | \u001b[36mthread.py:270 (__execute_tasks_in_parallel)\u001b[0m - \u001b[31m\u001b[1mFirst error of type ValueError: Traceback (most recent call last):\n",
      "  File \"/Users/anhvth/gitprojects/speedy_utils/speedy_utils/multi_worker/thread.py\", line 84, in _process_single_task\n",
      "    ret = func(inp) if not isinstance(inp, dict) else func(**inp)\n",
      "  File \"/Users/anhvth/gitprojects/speedy_utils/speedy_utils/multi_worker/thread.py\", line 48, in wrapper\n",
      "    signal.signal(signal.SIGALRM, _handle_timeout)\n",
      "  File \"/Users/anhvth/miniconda3/envs/cs-chatbot/lib/python3.10/signal.py\", line 56, in signal\n",
      "    handler = _signal.signal(_enum_to_int(signalnum), _enum_to_int(handler))\n",
      "ValueError: signal only works in main thread of the main interpreter\n",
      "\u001b[0m\n",
      "\u001b[31m\u001b[1mERROR   \u001b[0m | \u001b[36mthread.py:270 (__execute_tasks_in_parallel)\u001b[0m - \u001b[31m\u001b[1mFirst error of type ValueError: Traceback (most recent call last):\n",
      "  File \"/Users/anhvth/gitprojects/speedy_utils/speedy_utils/multi_worker/thread.py\", line 84, in _process_single_task\n",
      "    ret = func(inp) if not isinstance(inp, dict) else func(**inp)\n",
      "  File \"/Users/anhvth/gitprojects/speedy_utils/speedy_utils/multi_worker/thread.py\", line 48, in wrapper\n",
      "    signal.signal(signal.SIGALRM, _handle_timeout)\n",
      "  File \"/Users/anhvth/miniconda3/envs/cs-chatbot/lib/python3.10/signal.py\", line 56, in signal\n",
      "    handler = _signal.signal(_enum_to_int(signalnum), _enum_to_int(handler))\n",
      "ValueError: signal only works in main thread of the main interpreter\n",
      "\u001b[0m\n"
     ]
    },
    {
     "name": "stderr",
     "output_type": "stream",
     "text": [
      "                                                                                                                        "
     ]
    },
    {
     "name": "stdout",
     "output_type": "stream",
     "text": [
      "\u001b[34m\u001b[1mDEBUG   \u001b[0m | \u001b[36mthread.py:308 (__execute_tasks_in_parallel)\u001b[0m - \u001b[34m\u001b[1mGarbage collector: collected 0 objects\u001b[0m\n"
     ]
    },
    {
     "name": "stderr",
     "output_type": "stream",
     "text": [
      "\r"
     ]
    }
   ],
   "source": [
    "setup_logger(\"D\")\n",
    "\n",
    "\n",
    "def test_func(x):\n",
    "    time.sleep(1)\n",
    "    return x\n",
    "\n",
    "\n",
    "inputs = range(10)\n",
    "\n",
    "outputs = multi_thread(\n",
    "    test_func,\n",
    "    inputs,\n",
    "    workers=2,\n",
    "    desc=\"test_func\",\n",
    "    verbose=True,\n",
    "    stop_on_error=True,\n",
    "    per_run_timeout=0.1,\n",
    ")"
   ]
  },
  {
   "cell_type": "code",
   "execution_count": 74,
   "id": "f771daf1",
   "metadata": {},
   "outputs": [
    {
     "data": {
      "text/plain": [
       "[0, 1, 2, 3, 4, 5, 6, 7, 8, 9]"
      ]
     },
     "execution_count": 74,
     "metadata": {},
     "output_type": "execute_result"
    }
   ],
   "source": [
    "outputs"
   ]
  },
  {
   "cell_type": "code",
   "execution_count": null,
   "id": "ffafbbf1",
   "metadata": {},
   "outputs": [],
   "source": []
  }
 ],
 "metadata": {
  "kernelspec": {
   "display_name": "cs-chatbot",
   "language": "python",
   "name": "python3"
  },
  "language_info": {
   "codemirror_mode": {
    "name": "ipython",
    "version": 3
   },
   "file_extension": ".py",
   "mimetype": "text/x-python",
   "name": "python",
   "nbconvert_exporter": "python",
   "pygments_lexer": "ipython3",
   "version": "3.10.15"
  }
 },
 "nbformat": 4,
 "nbformat_minor": 5
}
