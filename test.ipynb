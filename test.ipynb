{
 "cells": [
  {
   "cell_type": "code",
   "execution_count": 1,
   "id": "05ae9902",
   "metadata": {},
   "outputs": [
    {
     "name": "stdout",
     "output_type": "stream",
     "text": [
      "The autoreload extension is already loaded. To reload it, use:\n",
      "  %reload_ext autoreload\n"
     ]
    }
   ],
   "source": [
    "%load_ext autoreload\n",
    "%autoreload 2"
   ]
  },
  {
   "cell_type": "code",
   "execution_count": 2,
   "id": "7c90e0ec-e08f-4454-8a9e-785552cfeaac",
   "metadata": {},
   "outputs": [
    {
     "name": "stdout",
     "output_type": "stream",
     "text": [
      "\u001b[34m\u001b[1mDEBUG   \u001b[0m | \u001b[36mutils_print.py:265 (setup_logger)\u001b[0m - \u001b[34m\u001b[1mLogging set to DEBUG\u001b[0m\n"
     ]
    }
   ],
   "source": [
    "from speedy_utils.all import *\n",
    "\n",
    "setup_logger(\"D\")"
   ]
  },
  {
   "cell_type": "code",
   "execution_count": 33,
   "id": "3fc68f27",
   "metadata": {},
   "outputs": [
    {
     "name": "stdout",
     "output_type": "stream",
     "text": [
      "\u001b[1mINFO    \u001b[0m | \u001b[36m3873382941.py:4 (slow_func)\u001b[0m - \u001b[1mx=1\u001b[0m\n"
     ]
    },
    {
     "data": {
      "text/plain": [
       "1"
      ]
     },
     "execution_count": 33,
     "metadata": {},
     "output_type": "execute_result"
    }
   ],
   "source": [
    "\n",
    "\n",
    "\n",
    "\n",
    "\n",
    "def slow_func(x):\n",
    "    # try:\n",
    "    time.sleep(1)  # sleeps for `x` seconds\n",
    "    logger.info(f\"{x=}\")\n",
    "    return x\n",
    "    # except KeyboardInterrupt:\n",
    "    #     logger.error(\"KB Interrupted\")\n",
    "    # except Exception as e:\n",
    "    #     logger.error(f\"Interrupted: {e}\")\n",
    "        \n",
    "\n",
    "# write a decorator that raises an exception if the function is interrupted by the user\n",
    "\n",
    "\n",
    "slow_func(1)"
   ]
  },
  {
   "cell_type": "code",
   "execution_count": null,
   "id": "d661d5ce",
   "metadata": {},
   "outputs": [
    {
     "name": "stdout",
     "output_type": "stream",
     "text": [
      "\u001b[34m\u001b[1mDEBUG   \u001b[0m | \u001b[36mutils_print.py:265 (setup_logger)\u001b[0m - \u001b[34m\u001b[1mLogging set to DEBUG\u001b[0m\n"
     ]
    },
    {
     "name": "stderr",
     "output_type": "stream",
     "text": [
      "Demo:   0%|                                                       | 0/5 [00:00<?, ?it/s]"
     ]
    },
    {
     "name": "stdout",
     "output_type": "stream",
     "text": [
      "\u001b[1mINFO    \u001b[0m | \u001b[36m3873382941.py:4 (slow_func)\u001b[0m - \u001b[1mx=1\u001b[0m\n",
      "\u001b[1mINFO    \u001b[0m | \u001b[36m3873382941.py:4 (slow_func)\u001b[0m - \u001b[1mx=0\u001b[0m\n",
      "\u001b[31m\u001b[1mERROR   \u001b[0m | \u001b[36mparallel.py:29 (g)\u001b[0m - \u001b[31m\u001b[1mError at index 1: <class 'TimeoutError'>: Task exceeded 0.1 seconds\u001b[0m\n"
     ]
    },
    {
     "name": "stderr",
     "output_type": "stream",
     "text": [
      "Demo:  20%|█████████▍                                     | 1/5 [00:01<00:04,  1.02s/it]"
     ]
    },
    {
     "name": "stdout",
     "output_type": "stream",
     "text": [
      "\u001b[31m\u001b[1mERROR   \u001b[0m | \u001b[36mthread.py:170 (_execute_tasks_in_parallel)\u001b[0m - \u001b[31m\u001b[1mStop event set. Stopping execution.\u001b[0m\n",
      "\u001b[34m\u001b[1mDEBUG   \u001b[0m | \u001b[36mthread.py:172 (_execute_tasks_in_parallel)\u001b[0m - \u001b[34m\u001b[1mCancelling future <Future at 0x175e09400 state=running>\u001b[0m\n",
      "\u001b[34m\u001b[1mDEBUG   \u001b[0m | \u001b[36mthread.py:172 (_execute_tasks_in_parallel)\u001b[0m - \u001b[34m\u001b[1mCancelling future <Future at 0x175de5280 state=finished returned tuple>\u001b[0m\n",
      "\u001b[34m\u001b[1mDEBUG   \u001b[0m | \u001b[36mthread.py:172 (_execute_tasks_in_parallel)\u001b[0m - \u001b[34m\u001b[1mCancelling future <Future at 0x175e09130 state=running>\u001b[0m\n",
      "\u001b[34m\u001b[1mDEBUG   \u001b[0m | \u001b[36mthread.py:172 (_execute_tasks_in_parallel)\u001b[0m - \u001b[34m\u001b[1mCancelling future <Future at 0x175e082f0 state=cancelled>\u001b[0m\n"
     ]
    },
    {
     "name": "stderr",
     "output_type": "stream",
     "text": [
      "Demo:  20%|█████████▍                                     | 1/5 [00:01<00:04,  1.03s/it]\n"
     ]
    },
    {
     "name": "stdout",
     "output_type": "stream",
     "text": [
      "\u001b[33m\u001b[1mWARNING \u001b[0m | \u001b[36mthread.py:180 (_execute_tasks_in_parallel)\u001b[0m - \u001b[33m\u001b[1mAn error occurred during task execution. Next step: cleanup and return.\u001b[0m\n",
      "\u001b[31m\u001b[1mERROR   \u001b[0m | \u001b[36mthread.py:305 (multi_thread)\u001b[0m - \u001b[31m\u001b[1m[MAIN PROCESS] Keyboard interrupt detected. Stopping execution. Terminating child processes.\u001b[0m\n"
     ]
    },
    {
     "ename": "TimeoutError",
     "evalue": "Task exceeded 0.1 seconds\n\nTraceback (most recent call last):\n  File \"/Users/anhvth/gitprojects/speedy_utils/speedy_utils/multi_worker/thread.py\", line 67, in _process_single_task\n    ret = _run_with_timeout(func, max_task_seconds, **inp)\n          ^^^^^^^^^^^^^^^^^^^^^^^^^^^^^^^^^^^^^^^^^^^^^^^^\n  File \"/Users/anhvth/gitprojects/speedy_utils/speedy_utils/multi_worker/thread.py\", line 48, in _run_with_timeout\n    return future.result(timeout=timeout)\n           ^^^^^^^^^^^^^^^^^^^^^^^^^^^^^^\n  File \"/Users/anhvth/miniconda3/lib/python3.12/concurrent/futures/_base.py\", line 458, in result\n    raise TimeoutError()\nTimeoutError\n",
     "output_type": "error",
     "traceback": [
      "\u001b[0;31m---------------------------------------------------------------------------\u001b[0m",
      "\u001b[0;31mTimeoutError\u001b[0m                              Traceback (most recent call last)",
      "Cell \u001b[0;32mIn[62], line 4\u001b[0m\n\u001b[1;32m      1\u001b[0m setup_logger(\u001b[38;5;124m\"\u001b[39m\u001b[38;5;124mD\u001b[39m\u001b[38;5;124m\"\u001b[39m)\n\u001b[1;32m      3\u001b[0m results \u001b[38;5;241m=\u001b[39m \u001b[38;5;28;01mNone\u001b[39;00m\n\u001b[0;32m----> 4\u001b[0m results \u001b[38;5;241m=\u001b[39m \u001b[43mmulti_thread\u001b[49m\u001b[43m(\u001b[49m\n\u001b[1;32m      5\u001b[0m \u001b[43m    \u001b[49m\u001b[43mfunc\u001b[49m\u001b[38;5;241;43m=\u001b[39;49m\u001b[43mslow_func\u001b[49m\u001b[43m,\u001b[49m\n\u001b[1;32m      6\u001b[0m \u001b[43m    \u001b[49m\u001b[43morig_inputs\u001b[49m\u001b[38;5;241;43m=\u001b[39;49m\u001b[38;5;28;43mrange\u001b[39;49m\u001b[43m(\u001b[49m\u001b[38;5;241;43m5\u001b[39;49m\u001b[43m)\u001b[49m\u001b[43m,\u001b[49m\n\u001b[1;32m      7\u001b[0m \u001b[43m    \u001b[49m\u001b[43mworkers\u001b[49m\u001b[38;5;241;43m=\u001b[39;49m\u001b[38;5;241;43m2\u001b[39;49m\u001b[43m,\u001b[49m\n\u001b[1;32m      8\u001b[0m \u001b[43m    \u001b[49m\u001b[43mdesc\u001b[49m\u001b[38;5;241;43m=\u001b[39;49m\u001b[38;5;124;43m\"\u001b[39;49m\u001b[38;5;124;43mDemo\u001b[39;49m\u001b[38;5;124;43m\"\u001b[39;49m\u001b[43m,\u001b[49m\n\u001b[1;32m      9\u001b[0m \u001b[43m    \u001b[49m\u001b[43mstop_on_error\u001b[49m\u001b[38;5;241;43m=\u001b[39;49m\u001b[38;5;28;43;01mTrue\u001b[39;49;00m\u001b[43m,\u001b[49m\n\u001b[1;32m     10\u001b[0m \u001b[43m    \u001b[49m\u001b[43mmax_task_seconds\u001b[49m\u001b[38;5;241;43m=\u001b[39;49m\u001b[38;5;241;43m0.1\u001b[39;49m\n\u001b[1;32m     11\u001b[0m \u001b[43m)\u001b[49m\n",
      "File \u001b[0;32m~/gitprojects/speedy_utils/speedy_utils/multi_worker/thread.py:314\u001b[0m, in \u001b[0;36mmulti_thread\u001b[0;34m(func, orig_inputs, workers, verbose, desc, stop_on_error, filter_none, do_memoize, max_task_seconds, **kwargs)\u001b[0m\n\u001b[1;32m    312\u001b[0m \u001b[38;5;28;01mfor\u001b[39;00m r \u001b[38;5;129;01min\u001b[39;00m shared_result_list:\n\u001b[1;32m    313\u001b[0m     \u001b[38;5;28;01mif\u001b[39;00m stop_on_error \u001b[38;5;129;01mand\u001b[39;00m \u001b[38;5;28misinstance\u001b[39m(r, RunErr):\n\u001b[0;32m--> 314\u001b[0m         \u001b[38;5;28;01mraise\u001b[39;00m \u001b[38;5;167;01mTimeoutError\u001b[39;00m(r\u001b[38;5;241m.\u001b[39mmessage\u001b[38;5;241m+\u001b[39m\u001b[38;5;124m'\u001b[39m\u001b[38;5;130;01m\\n\u001b[39;00m\u001b[38;5;130;01m\\n\u001b[39;00m\u001b[38;5;124m'\u001b[39m\u001b[38;5;241m+\u001b[39mr\u001b[38;5;241m.\u001b[39mtraceback)\n\u001b[1;32m    315\u001b[0m     \u001b[38;5;28;01mif\u001b[39;00m filter_none \u001b[38;5;129;01mand\u001b[39;00m r \u001b[38;5;129;01mis\u001b[39;00m \u001b[38;5;28;01mNone\u001b[39;00m:\n\u001b[1;32m    316\u001b[0m         \u001b[38;5;28;01mcontinue\u001b[39;00m\n",
      "\u001b[0;31mTimeoutError\u001b[0m: Task exceeded 0.1 seconds\n\nTraceback (most recent call last):\n  File \"/Users/anhvth/gitprojects/speedy_utils/speedy_utils/multi_worker/thread.py\", line 67, in _process_single_task\n    ret = _run_with_timeout(func, max_task_seconds, **inp)\n          ^^^^^^^^^^^^^^^^^^^^^^^^^^^^^^^^^^^^^^^^^^^^^^^^\n  File \"/Users/anhvth/gitprojects/speedy_utils/speedy_utils/multi_worker/thread.py\", line 48, in _run_with_timeout\n    return future.result(timeout=timeout)\n           ^^^^^^^^^^^^^^^^^^^^^^^^^^^^^^\n  File \"/Users/anhvth/miniconda3/lib/python3.12/concurrent/futures/_base.py\", line 458, in result\n    raise TimeoutError()\nTimeoutError\n"
     ]
    }
   ],
   "source": [
    "setup_logger(\"D\")\n",
    "\n",
    "results = None\n",
    "results = multi_thread(\n",
    "    func=slow_func,\n",
    "    orig_inputs=range(5),\n",
    "    workers=2,\n",
    "    desc=\"Demo\",\n",
    "    stop_on_error=True,\n",
    "    # max_task_seconds=0.1\n",
    ")"
   ]
  },
  {
   "cell_type": "code",
   "execution_count": 61,
   "id": "a4fc256b",
   "metadata": {},
   "outputs": [],
   "source": [
    "results"
   ]
  },
  {
   "cell_type": "code",
   "execution_count": null,
   "id": "54a85f4e",
   "metadata": {},
   "outputs": [],
   "source": []
  }
 ],
 "metadata": {
  "kernelspec": {
   "display_name": "base",
   "language": "python",
   "name": "python3"
  },
  "language_info": {
   "codemirror_mode": {
    "name": "ipython",
    "version": 3
   },
   "file_extension": ".py",
   "mimetype": "text/x-python",
   "name": "python",
   "nbconvert_exporter": "python",
   "pygments_lexer": "ipython3",
   "version": "3.12.2"
  }
 },
 "nbformat": 4,
 "nbformat_minor": 5
}
