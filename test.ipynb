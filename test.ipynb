{
 "cells": [
  {
   "cell_type": "code",
   "execution_count": 1,
   "id": "05ae9902",
   "metadata": {},
   "outputs": [
    {
     "name": "stdout",
     "output_type": "stream",
     "text": [
      "The autoreload extension is already loaded. To reload it, use:\n",
      "  %reload_ext autoreload\n"
     ]
    }
   ],
   "source": [
    "%load_ext autoreload\n",
    "%autoreload 2"
   ]
  },
  {
   "cell_type": "code",
   "execution_count": 2,
   "id": "7c90e0ec-e08f-4454-8a9e-785552cfeaac",
   "metadata": {},
   "outputs": [
    {
     "name": "stdout",
     "output_type": "stream",
     "text": [
      "\u001b[34m\u001b[1mDEBUG   \u001b[0m | \u001b[36mutils_print.py:256 (setup_logger)\u001b[0m - \u001b[34m\u001b[1mLogging set to DEBUG\u001b[0m\n"
     ]
    }
   ],
   "source": [
    "from speedy_utils import *\n",
    "setup_logger('D')"
   ]
  },
  {
   "cell_type": "markdown",
   "id": "b1ab33ef",
   "metadata": {},
   "source": []
  },
  {
   "cell_type": "code",
   "execution_count": 3,
   "id": "a73c9862-e44b-45ef-ae82-6e424a744ae2",
   "metadata": {},
   "outputs": [
    {
     "name": "stdout",
     "output_type": "stream",
     "text": [
      "\u001b[1mINFO    \u001b[0m | \u001b[36mutils_cache.py:94 (memoize)\u001b[0m - \u001b[1mcache_dir: .cache/test, cache_type: memory\u001b[0m\n"
     ]
    }
   ],
   "source": [
    "import time\n",
    "\n",
    "@memoize(cache_dir='.cache/test', cache_type='memory')\n",
    "def f(s):\n",
    "    # sleep for s seconds\n",
    "    time.sleep(s)\n",
    "    print(s)\n",
    "    return s"
   ]
  },
  {
   "cell_type": "code",
   "execution_count": 4,
   "id": "2325f6e1",
   "metadata": {},
   "outputs": [
    {
     "name": "stdout",
     "output_type": "stream",
     "text": [
      "1\n",
      "2\n"
     ]
    }
   ],
   "source": [
    "inputs = [1, 2]\n",
    "outputs = multi_thread(f, inputs)"
   ]
  },
  {
   "cell_type": "code",
   "execution_count": null,
   "id": "ca603acf",
   "metadata": {},
   "outputs": [
    {
     "name": "stdout",
     "output_type": "stream",
     "text": [
      "\u001b[1mINFO    \u001b[0m | \u001b[36mutils_cache.py:94 (memoize)\u001b[0m - \u001b[1mcache_dir: .cache/test, cache_type: disk\u001b[0m\n",
      "1 2\n",
      "3 4\n",
      "5 6\n"
     ]
    }
   ],
   "source": [
    "class myclass:\n",
    "\n",
    "    @memoize(cache_dir=\".cache/test\", cache_type=\"disk\")\n",
    "    def run(self, x, y):\n",
    "        return x + y\n",
    "\n",
    "\n",
    "inputs = [(1, 2), (3, 4), (5, 6)]\n",
    "obj = myclass()\n",
    "outputs = [obj.run(*i) for i in inputs]"
   ]
  },
  {
   "cell_type": "code",
   "execution_count": 6,
   "id": "e8d680a6",
   "metadata": {},
   "outputs": [
    {
     "data": {
      "text/plain": [
       "[3, 7, 11]"
      ]
     },
     "execution_count": 6,
     "metadata": {},
     "output_type": "execute_result"
    }
   ],
   "source": [
    "outputs"
   ]
  },
  {
   "cell_type": "code",
   "execution_count": null,
   "id": "3fc68f27",
   "metadata": {},
   "outputs": [],
   "source": []
  }
 ],
 "metadata": {
  "kernelspec": {
   "display_name": "cs-chatbot",
   "language": "python",
   "name": "python3"
  },
  "language_info": {
   "codemirror_mode": {
    "name": "ipython",
    "version": 3
   },
   "file_extension": ".py",
   "mimetype": "text/x-python",
   "name": "python",
   "nbconvert_exporter": "python",
   "pygments_lexer": "ipython3",
   "version": "3.10.15"
  }
 },
 "nbformat": 4,
 "nbformat_minor": 5
}
